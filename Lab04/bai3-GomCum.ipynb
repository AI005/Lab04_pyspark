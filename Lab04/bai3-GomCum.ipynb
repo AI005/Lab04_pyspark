{
 "cells": [
  {
   "cell_type": "code",
   "execution_count": 1,
   "metadata": {
    "id": "MtSrviE9rv5W"
   },
   "outputs": [
    {
     "name": "stderr",
     "output_type": "stream",
     "text": [
      "22/01/28 20:36:47 WARN Utils: Your hostname, sheepb-HP-Pavilion-Notebook resolves to a loopback address: 127.0.1.1; using 192.168.1.13 instead (on interface wlo1)\n",
      "22/01/28 20:36:47 WARN Utils: Set SPARK_LOCAL_IP if you need to bind to another address\n",
      "WARNING: An illegal reflective access operation has occurred\n",
      "WARNING: Illegal reflective access by org.apache.spark.unsafe.Platform (file:/home/sheepb/code/jupyter_dir/jupyter_env/lib/python3.8/site-packages/pyspark/jars/spark-unsafe_2.12-3.2.0.jar) to constructor java.nio.DirectByteBuffer(long,int)\n",
      "WARNING: Please consider reporting this to the maintainers of org.apache.spark.unsafe.Platform\n",
      "WARNING: Use --illegal-access=warn to enable warnings of further illegal reflective access operations\n",
      "WARNING: All illegal access operations will be denied in a future release\n",
      "Using Spark's default log4j profile: org/apache/spark/log4j-defaults.properties\n",
      "Setting default log level to \"WARN\".\n",
      "To adjust logging level use sc.setLogLevel(newLevel). For SparkR, use setLogLevel(newLevel).\n",
      "22/01/28 20:36:58 WARN NativeCodeLoader: Unable to load native-hadoop library for your platform... using builtin-java classes where applicable\n"
     ]
    }
   ],
   "source": [
    "# Set up\n",
    "from pyspark.sql import SparkSession\n",
    "spark = SparkSession.builder.appName('lab04').getOrCreate()"
   ]
  },
  {
   "cell_type": "markdown",
   "metadata": {
    "id": "51HIR8_0CjmF"
   },
   "source": [
    "### 1. Đọc files và tiền xử lý dữ liệu"
   ]
  },
  {
   "cell_type": "markdown",
   "metadata": {
    "id": "_dQltYIlC3dM"
   },
   "source": [
    "#### Đọc files"
   ]
  },
  {
   "cell_type": "code",
   "execution_count": 2,
   "metadata": {},
   "outputs": [
    {
     "name": "stdout",
     "output_type": "stream",
     "text": [
      "mushrooms.csv  orders.csv  plants.rar  products.csv\r\n"
     ]
    }
   ],
   "source": [
    "!ls Lab04-Data/"
   ]
  },
  {
   "cell_type": "code",
   "execution_count": 3,
   "metadata": {
    "id": "xnpXqI4csyqJ"
   },
   "outputs": [],
   "source": [
    "data_path = './Lab04-Data/'\n",
    "\n",
    "import rarfile\n",
    "import pandas as pd\n",
    "\n",
    "#extract file rar\n",
    "r = rarfile.RarFile(data_path + 'plants.rar')\n",
    "r.extractall()\n",
    "r.close()\n",
    "\n",
    "# đọc file stateabbr.txt : chứa thông tin mô tả về các khu vực được đề cập đến trong tập dữ liệu.\n",
    "# sử dụng spark.read.text(\"file_name\"): đọc tệp văn bản và trả về dưới dạng cấu trúc dữ SparkDataFrame\n",
    "# mỗi hàng trong S.DataFrame có giá trịtương ứng với mỗi dòng dữ liệu trong file hay giá trị (value)\n",
    "info_states = spark.read.text(\"stateabbr.txt\")\n",
    "    \n",
    "# đọc files dữ liệu:\n",
    "#sử dụng pd.read_fwf() để load DataFrames từ các tệp dữ liệu plants: \n",
    "# pd.read_fwwf() : Đọc tệp từ đường dẫn đầu vào dưới dạng bảng gồm các dòng được định dạng có độ rộng cố định.\n",
    "# Các cột thuộc tính trong tệp văn bản được phân tách với chiều rộng cố định nên nội dung DataFrames gồm các cột thuộc tính riêng biệt tương ứng với file_input. \n",
    "\n",
    "# đọc  file _names\n",
    "raw_pl_names = pd.read_fwf('plants.names', encoding='cp1252')\n",
    "\n",
    "#đọc file _data\n",
    "raw_pl_data = pd.read_fwf('plants.data', header=None, names=[\"raw_data\"], encoding='cp1252')"
   ]
  },
  {
   "cell_type": "code",
   "execution_count": 4,
   "metadata": {
    "colab": {
     "base_uri": "https://localhost:8080/",
     "height": 1000
    },
    "id": "YjsEsk1OvPOL",
    "outputId": "81c38441-0b9c-4952-e9f1-f33a57b37b9a"
   },
   "outputs": [
    {
     "data": {
      "text/html": [
       "<div>\n",
       "<style scoped>\n",
       "    .dataframe tbody tr th:only-of-type {\n",
       "        vertical-align: middle;\n",
       "    }\n",
       "\n",
       "    .dataframe tbody tr th {\n",
       "        vertical-align: top;\n",
       "    }\n",
       "\n",
       "    .dataframe thead th {\n",
       "        text-align: right;\n",
       "    }\n",
       "</style>\n",
       "<table border=\"1\" class=\"dataframe\">\n",
       "  <thead>\n",
       "    <tr style=\"text-align: right;\">\n",
       "      <th></th>\n",
       "      <th>Title: Plants</th>\n",
       "    </tr>\n",
       "  </thead>\n",
       "  <tbody>\n",
       "    <tr>\n",
       "      <th>0</th>\n",
       "      <td>Abstract: Data has been extracted from the USD...</td>\n",
       "    </tr>\n",
       "    <tr>\n",
       "      <th>1</th>\n",
       "      <td>contains all plants (species and genera) in th...</td>\n",
       "    </tr>\n",
       "    <tr>\n",
       "      <th>2</th>\n",
       "      <td>of USA and Canada where they occur.</td>\n",
       "    </tr>\n",
       "    <tr>\n",
       "      <th>3</th>\n",
       "      <td>----------------------------------------------...</td>\n",
       "    </tr>\n",
       "    <tr>\n",
       "      <th>4</th>\n",
       "      <td>Data Set Characteristics: Multivariate</td>\n",
       "    </tr>\n",
       "    <tr>\n",
       "      <th>5</th>\n",
       "      <td>Attribute Characteristics: Categorical</td>\n",
       "    </tr>\n",
       "    <tr>\n",
       "      <th>6</th>\n",
       "      <td>Associated Tasks: Clustering</td>\n",
       "    </tr>\n",
       "    <tr>\n",
       "      <th>7</th>\n",
       "      <td>Number of Instances: 22632</td>\n",
       "    </tr>\n",
       "    <tr>\n",
       "      <th>8</th>\n",
       "      <td>Number of Attributes: 70</td>\n",
       "    </tr>\n",
       "    <tr>\n",
       "      <th>9</th>\n",
       "      <td>Missing Values? Yes</td>\n",
       "    </tr>\n",
       "    <tr>\n",
       "      <th>10</th>\n",
       "      <td>Area: Life</td>\n",
       "    </tr>\n",
       "    <tr>\n",
       "      <th>11</th>\n",
       "      <td>Date Donated: 2008-12-31</td>\n",
       "    </tr>\n",
       "    <tr>\n",
       "      <th>12</th>\n",
       "      <td>----------------------------------------------...</td>\n",
       "    </tr>\n",
       "    <tr>\n",
       "      <th>13</th>\n",
       "      <td>Source:</td>\n",
       "    </tr>\n",
       "    <tr>\n",
       "      <th>14</th>\n",
       "      <td>Original source:</td>\n",
       "    </tr>\n",
       "    <tr>\n",
       "      <th>15</th>\n",
       "      <td>USDA plants database: http://plants.usda.gov/i...</td>\n",
       "    </tr>\n",
       "    <tr>\n",
       "      <th>16</th>\n",
       "      <td>Extracted and encoded by W. Hämäläinen, Depart...</td>\n",
       "    </tr>\n",
       "    <tr>\n",
       "      <th>17</th>\n",
       "      <td>University of Helsinki, Finland. whamalai '@' ...</td>\n",
       "    </tr>\n",
       "    <tr>\n",
       "      <th>18</th>\n",
       "      <td>----------------------------------------------...</td>\n",
       "    </tr>\n",
       "    <tr>\n",
       "      <th>19</th>\n",
       "      <td>Data Set Information:</td>\n",
       "    </tr>\n",
       "    <tr>\n",
       "      <th>20</th>\n",
       "      <td>The data is in the transactional form. It cont...</td>\n",
       "    </tr>\n",
       "    <tr>\n",
       "      <th>21</th>\n",
       "      <td>(species or genus) and state abbreviations.</td>\n",
       "    </tr>\n",
       "    <tr>\n",
       "      <th>22</th>\n",
       "      <td>----------------------------------------------...</td>\n",
       "    </tr>\n",
       "    <tr>\n",
       "      <th>23</th>\n",
       "      <td>Attribute Information:</td>\n",
       "    </tr>\n",
       "    <tr>\n",
       "      <th>24</th>\n",
       "      <td>Each row contains a Latin name (species or gen...</td>\n",
       "    </tr>\n",
       "    <tr>\n",
       "      <th>25</th>\n",
       "      <td>abbreviations.</td>\n",
       "    </tr>\n",
       "    <tr>\n",
       "      <th>26</th>\n",
       "      <td>----------------------------------------------...</td>\n",
       "    </tr>\n",
       "    <tr>\n",
       "      <th>27</th>\n",
       "      <td>Relevant Papers:</td>\n",
       "    </tr>\n",
       "    <tr>\n",
       "      <th>28</th>\n",
       "      <td>Hämäläinen, W. and Nykänen, M.: Efficient disc...</td>\n",
       "    </tr>\n",
       "    <tr>\n",
       "      <th>29</th>\n",
       "      <td>significant association rules. Proceedings of ...</td>\n",
       "    </tr>\n",
       "    <tr>\n",
       "      <th>30</th>\n",
       "      <td>Conference on Data Mining (ICDM 2008), pp. 203...</td>\n",
       "    </tr>\n",
       "    <tr>\n",
       "      <th>31</th>\n",
       "      <td>Society 2008.</td>\n",
       "    </tr>\n",
       "    <tr>\n",
       "      <th>32</th>\n",
       "      <td>----------------------------------------------...</td>\n",
       "    </tr>\n",
       "    <tr>\n",
       "      <th>33</th>\n",
       "      <td>Citation Request:</td>\n",
       "    </tr>\n",
       "    <tr>\n",
       "      <th>34</th>\n",
       "      <td>Even if the data is processed, it is good to g...</td>\n",
       "    </tr>\n",
       "    <tr>\n",
       "      <th>35</th>\n",
       "      <td>original source:</td>\n",
       "    </tr>\n",
       "    <tr>\n",
       "      <th>36</th>\n",
       "      <td>USDA, NRCS. 2008. The PLANTS Database (http://...</td>\n",
       "    </tr>\n",
       "    <tr>\n",
       "      <th>37</th>\n",
       "      <td>December 2008). National Plant Data Center, Ba...</td>\n",
       "    </tr>\n",
       "  </tbody>\n",
       "</table>\n",
       "</div>"
      ],
      "text/plain": [
       "                                        Title: Plants\n",
       "0   Abstract: Data has been extracted from the USD...\n",
       "1   contains all plants (species and genera) in th...\n",
       "2                 of USA and Canada where they occur.\n",
       "3   ----------------------------------------------...\n",
       "4              Data Set Characteristics: Multivariate\n",
       "5              Attribute Characteristics: Categorical\n",
       "6                        Associated Tasks: Clustering\n",
       "7                          Number of Instances: 22632\n",
       "8                            Number of Attributes: 70\n",
       "9                                 Missing Values? Yes\n",
       "10                                         Area: Life\n",
       "11                           Date Donated: 2008-12-31\n",
       "12  ----------------------------------------------...\n",
       "13                                            Source:\n",
       "14                                   Original source:\n",
       "15  USDA plants database: http://plants.usda.gov/i...\n",
       "16  Extracted and encoded by W. Hämäläinen, Depart...\n",
       "17  University of Helsinki, Finland. whamalai '@' ...\n",
       "18  ----------------------------------------------...\n",
       "19                              Data Set Information:\n",
       "20  The data is in the transactional form. It cont...\n",
       "21        (species or genus) and state abbreviations.\n",
       "22  ----------------------------------------------...\n",
       "23                             Attribute Information:\n",
       "24  Each row contains a Latin name (species or gen...\n",
       "25                                     abbreviations.\n",
       "26  ----------------------------------------------...\n",
       "27                                   Relevant Papers:\n",
       "28  Hämäläinen, W. and Nykänen, M.: Efficient disc...\n",
       "29  significant association rules. Proceedings of ...\n",
       "30  Conference on Data Mining (ICDM 2008), pp. 203...\n",
       "31                                      Society 2008.\n",
       "32  ----------------------------------------------...\n",
       "33                                  Citation Request:\n",
       "34  Even if the data is processed, it is good to g...\n",
       "35                                   original source:\n",
       "36  USDA, NRCS. 2008. The PLANTS Database (http://...\n",
       "37  December 2008). National Plant Data Center, Ba..."
      ]
     },
     "execution_count": 4,
     "metadata": {},
     "output_type": "execute_result"
    }
   ],
   "source": [
    "raw_pl_names"
   ]
  },
  {
   "cell_type": "code",
   "execution_count": 5,
   "metadata": {
    "colab": {
     "base_uri": "https://localhost:8080/",
     "height": 673
    },
    "id": "ARhCCh7jyTD1",
    "outputId": "e8f43eca-3402-4c50-dd77-ea10d2f329db"
   },
   "outputs": [
    {
     "data": {
      "text/html": [
       "<div>\n",
       "<style scoped>\n",
       "    .dataframe tbody tr th:only-of-type {\n",
       "        vertical-align: middle;\n",
       "    }\n",
       "\n",
       "    .dataframe tbody tr th {\n",
       "        vertical-align: top;\n",
       "    }\n",
       "\n",
       "    .dataframe thead th {\n",
       "        text-align: right;\n",
       "    }\n",
       "</style>\n",
       "<table border=\"1\" class=\"dataframe\">\n",
       "  <thead>\n",
       "    <tr style=\"text-align: right;\">\n",
       "      <th></th>\n",
       "      <th>raw_data</th>\n",
       "    </tr>\n",
       "  </thead>\n",
       "  <tbody>\n",
       "    <tr>\n",
       "      <th>0</th>\n",
       "      <td>abelia,fl,nc</td>\n",
       "    </tr>\n",
       "    <tr>\n",
       "      <th>1</th>\n",
       "      <td>abelia x grandiflora,fl,nc</td>\n",
       "    </tr>\n",
       "    <tr>\n",
       "      <th>2</th>\n",
       "      <td>abelmoschus,ct,dc,fl,hi,il,ky,la,md,mi,ms,nc,s...</td>\n",
       "    </tr>\n",
       "    <tr>\n",
       "      <th>3</th>\n",
       "      <td>abelmoschus esculentus,ct,dc,fl,il,ky,la,md,mi...</td>\n",
       "    </tr>\n",
       "    <tr>\n",
       "      <th>4</th>\n",
       "      <td>abelmoschus moschatus,hi,pr</td>\n",
       "    </tr>\n",
       "    <tr>\n",
       "      <th>...</th>\n",
       "      <td>...</td>\n",
       "    </tr>\n",
       "    <tr>\n",
       "      <th>34776</th>\n",
       "      <td>zuckia brandegeei var. plummeri,co,nm,ut,wy</td>\n",
       "    </tr>\n",
       "    <tr>\n",
       "      <th>34777</th>\n",
       "      <td>zygophlebia,pr</td>\n",
       "    </tr>\n",
       "    <tr>\n",
       "      <th>34778</th>\n",
       "      <td>zygophlebia sectifrons,pr</td>\n",
       "    </tr>\n",
       "    <tr>\n",
       "      <th>34779</th>\n",
       "      <td>zygophyllum,ca,co,id,ks,mt,nv,nm,ny,pa,tx,wa</td>\n",
       "    </tr>\n",
       "    <tr>\n",
       "      <th>34780</th>\n",
       "      <td>zygophyllum fabago,ca,co,id,ks,mt,nv,nm,ny,pa,...</td>\n",
       "    </tr>\n",
       "  </tbody>\n",
       "</table>\n",
       "<p>34781 rows × 1 columns</p>\n",
       "</div>"
      ],
      "text/plain": [
       "                                                raw_data\n",
       "0                                           abelia,fl,nc\n",
       "1                             abelia x grandiflora,fl,nc\n",
       "2      abelmoschus,ct,dc,fl,hi,il,ky,la,md,mi,ms,nc,s...\n",
       "3      abelmoschus esculentus,ct,dc,fl,il,ky,la,md,mi...\n",
       "4                            abelmoschus moschatus,hi,pr\n",
       "...                                                  ...\n",
       "34776        zuckia brandegeei var. plummeri,co,nm,ut,wy\n",
       "34777                                     zygophlebia,pr\n",
       "34778                          zygophlebia sectifrons,pr\n",
       "34779       zygophyllum,ca,co,id,ks,mt,nv,nm,ny,pa,tx,wa\n",
       "34780  zygophyllum fabago,ca,co,id,ks,mt,nv,nm,ny,pa,...\n",
       "\n",
       "[34781 rows x 1 columns]"
      ]
     },
     "execution_count": 5,
     "metadata": {},
     "output_type": "execute_result"
    }
   ],
   "source": [
    "raw_pl_data"
   ]
  },
  {
   "cell_type": "code",
   "execution_count": 6,
   "metadata": {
    "colab": {
     "base_uri": "https://localhost:8080/"
    },
    "id": "AVqAbbpjy80U",
    "outputId": "e4cff232-f7fe-49a3-9db7-5674f1585239"
   },
   "outputs": [
    {
     "name": "stdout",
     "output_type": "stream",
     "text": [
      "+--------------------+\n",
      "|               value|\n",
      "+--------------------+\n",
      "|State Abbreviations |\n",
      "|                    |\n",
      "|       U.S. States: |\n",
      "|          ab Alabama|\n",
      "|           ak Alaska|\n",
      "|         ar Arkansas|\n",
      "|          az Arizona|\n",
      "|       ca California|\n",
      "|         co Colorado|\n",
      "|      ct Connecticut|\n",
      "|         de Delaware|\n",
      "|dc District of Co...|\n",
      "|          fl Florida|\n",
      "|          ga Georgia|\n",
      "|           hi Hawaii|\n",
      "|            id Idaho|\n",
      "|         il Illinois|\n",
      "|          in Indiana|\n",
      "|             ia Iowa|\n",
      "|           ks Kansas|\n",
      "+--------------------+\n",
      "only showing top 20 rows\n",
      "\n"
     ]
    }
   ],
   "source": [
    "#Thông tin mô tả < Tên viết tắt - Tên khu vực>\n",
    "\n",
    "info_states.show()"
   ]
  },
  {
   "cell_type": "markdown",
   "metadata": {
    "id": "q4NA_us7DAbe"
   },
   "source": [
    "#### Tiền xử lý"
   ]
  },
  {
   "cell_type": "markdown",
   "metadata": {
    "id": "lGuykMjh0nfm"
   },
   "source": [
    "##### Chuyển đổi dữ liệu về dạng vector nhị phân"
   ]
  },
  {
   "cell_type": "code",
   "execution_count": 7,
   "metadata": {},
   "outputs": [
    {
     "name": "stdout",
     "output_type": "stream",
     "text": [
      "Requirement already satisfied: sklearn in /home/sheepb/code/jupyter_dir/jupyter_env/lib/python3.8/site-packages (0.0)\r\n",
      "Requirement already satisfied: scikit-learn in /home/sheepb/code/jupyter_dir/jupyter_env/lib/python3.8/site-packages (from sklearn) (1.0.2)\r\n",
      "Requirement already satisfied: joblib>=0.11 in /home/sheepb/code/jupyter_dir/jupyter_env/lib/python3.8/site-packages (from scikit-learn->sklearn) (1.1.0)\r\n",
      "Requirement already satisfied: numpy>=1.14.6 in /home/sheepb/code/jupyter_dir/jupyter_env/lib/python3.8/site-packages (from scikit-learn->sklearn) (1.22.1)\r\n",
      "Requirement already satisfied: threadpoolctl>=2.0.0 in /home/sheepb/code/jupyter_dir/jupyter_env/lib/python3.8/site-packages (from scikit-learn->sklearn) (3.0.0)\r\n",
      "Requirement already satisfied: scipy>=1.1.0 in /home/sheepb/code/jupyter_dir/jupyter_env/lib/python3.8/site-packages (from scikit-learn->sklearn) (1.7.3)\r\n"
     ]
    }
   ],
   "source": [
    "!pip install sklearn"
   ]
  },
  {
   "cell_type": "code",
   "execution_count": 8,
   "metadata": {
    "id": "i6iMbLfkDD8l"
   },
   "outputs": [],
   "source": [
    "from sklearn.feature_extraction.text import CountVectorizer\n",
    "\n",
    "#Lấy danh sách tên các loài \n",
    "df_specie = pd.DataFrame( raw_pl_data.raw_data.apply(lambda r: str(r).split(',')[0])).rename(columns = {'raw_data' : 'specie'})\n",
    "#df_specie = spark.createDataFrame(pd_specie, schema='specie)\n",
    "\n",
    "#Lấy danh sách các khu vực phân bố của mỗi loài TV\n",
    "# tương ứng với một chuỗi tên viết tắt các khu vực của loài đó \n",
    "df_state = raw_pl_data.raw_data.apply(lambda r: str(r).replace(str(r).split(',')[0] + ',','',1))\n",
    "\n",
    "# Mã hóa vector biểu diễn khu vực phân bố của mỗi loài\n",
    "# Sử dụng CountVectorizer() : Chuyển đổi từng khu vực trong mỗi chuỗi dánh sách khu vực, \n",
    "#bằng cách tạo một ma trận thưa, trong đó:\n",
    "# cột ma trận là tên các khu vực địa lý (duy nhất) có trong tập tin dữ liệu,\n",
    "# hàng là thông tin phân bố khu vực địa lý\n",
    "# giá trị mỗi ô : 1 hoặc 0. 1 nếu tên khu vực xuất hiện trong chuỗi danh sách phân bố của loài cụ thể, ngược lại bằng 0.\n",
    "\n",
    "vectorizer = CountVectorizer()\n",
    "X = vectorizer.fit_transform(df_state)\n",
    "\n",
    "# Tên các khu vực xuất hiện trong dữ liệu\n",
    "state = list(vectorizer.get_feature_names_out())\n",
    "\n",
    "# Ma trận biểu diễn thông tin phân bố đại lý của mỗi loài\n",
    "df_enc_state = pd.DataFrame(X.toarray(), columns = state)\n",
    "#df_state =spark.createDataFrame(df_state,schema=state)\n",
    "\n",
    "# DataFrame thể hiện đầy đủ thông tin phân bố của mỗi loài : <tên loài><thông tin phân bố>\n",
    "df_plant = spark.createDataFrame( df_specie.join(df_enc_state))"
   ]
  },
  {
   "cell_type": "code",
   "execution_count": 9,
   "metadata": {
    "colab": {
     "base_uri": "https://localhost:8080/"
    },
    "id": "lNaF0w43zNMT",
    "outputId": "0416b495-5334-4432-b2c4-9ea6e7a5218e"
   },
   "outputs": [
    {
     "name": "stderr",
     "output_type": "stream",
     "text": [
      "22/01/28 20:37:14 WARN package: Truncated the string representation of a plan since it was too large. This behavior can be adjusted by setting 'spark.sql.debug.maxToStringFields'.\n",
      "22/01/28 20:37:14 WARN TaskSetManager: Stage 1 contains a task of very large size (1441 KiB). The maximum recommended task size is 1000 KiB.\n"
     ]
    },
    {
     "name": "stdout",
     "output_type": "stream",
     "text": [
      "+--------------------+---+---+---+---+---+---+---+---+---+---+---+---+----+-----+---+---+---+----+-----+------+---+---+---+---+---+---+---+---+---+---+---+---+---+---+---+---+---+---+---+---+---+---+---+---+---+---+---+---+---+---+---+---+---+---+---+---+---+---+---+---+---+---+---+---+---+---+---+---+---+---+---+---+---+---+---+---+\n",
      "|              specie| ab| ak| al| ar| az| bc| ca| co| ct| dc| de|den|deng|dengl| fl| fr|fra|fras|frasp|fraspm| ga| gl| hi| ia| id| il| in| ks| ky| la| lb| ma| mb| md| me| mi| mn| mo| ms| mt| nb| nc| nd| ne| nf| nh| nj| nm| ns| nt| nu| nv| ny| oh| ok| on| or| pa| pe| pr| qc| ri| sc| sd| sk| tn| tx| ut| va| vi| vt| wa| wi| wv| wy| yt|\n",
      "+--------------------+---+---+---+---+---+---+---+---+---+---+---+---+----+-----+---+---+---+----+-----+------+---+---+---+---+---+---+---+---+---+---+---+---+---+---+---+---+---+---+---+---+---+---+---+---+---+---+---+---+---+---+---+---+---+---+---+---+---+---+---+---+---+---+---+---+---+---+---+---+---+---+---+---+---+---+---+---+\n",
      "|              abelia|  0|  0|  0|  0|  0|  0|  0|  0|  0|  0|  0|  0|   0|    0|  1|  0|  0|   0|    0|     0|  0|  0|  0|  0|  0|  0|  0|  0|  0|  0|  0|  0|  0|  0|  0|  0|  0|  0|  0|  0|  0|  1|  0|  0|  0|  0|  0|  0|  0|  0|  0|  0|  0|  0|  0|  0|  0|  0|  0|  0|  0|  0|  0|  0|  0|  0|  0|  0|  0|  0|  0|  0|  0|  0|  0|  0|\n",
      "|abelia x grandiflora|  0|  0|  0|  0|  0|  0|  0|  0|  0|  0|  0|  0|   0|    0|  1|  0|  0|   0|    0|     0|  0|  0|  0|  0|  0|  0|  0|  0|  0|  0|  0|  0|  0|  0|  0|  0|  0|  0|  0|  0|  0|  1|  0|  0|  0|  0|  0|  0|  0|  0|  0|  0|  0|  0|  0|  0|  0|  0|  0|  0|  0|  0|  0|  0|  0|  0|  0|  0|  0|  0|  0|  0|  0|  0|  0|  0|\n",
      "|         abelmoschus|  0|  0|  0|  0|  0|  0|  0|  0|  1|  1|  0|  0|   0|    0|  1|  0|  0|   0|    0|     0|  0|  0|  1|  0|  0|  1|  0|  0|  1|  1|  0|  0|  0|  1|  0|  1|  0|  0|  1|  0|  0|  1|  0|  0|  0|  0|  0|  0|  0|  0|  0|  0|  0|  0|  0|  0|  0|  0|  0|  1|  0|  0|  1|  0|  0|  0|  0|  0|  1|  1|  0|  0|  0|  0|  0|  0|\n",
      "|abelmoschus escul...|  0|  0|  0|  0|  0|  0|  0|  0|  1|  1|  0|  0|   0|    0|  1|  0|  0|   0|    0|     0|  0|  0|  0|  0|  0|  1|  0|  0|  1|  1|  0|  0|  0|  1|  0|  1|  0|  0|  1|  0|  0|  1|  0|  0|  0|  0|  0|  0|  0|  0|  0|  0|  0|  0|  0|  0|  0|  0|  0|  1|  0|  0|  1|  0|  0|  0|  0|  0|  1|  1|  0|  0|  0|  0|  0|  0|\n",
      "|abelmoschus mosch...|  0|  0|  0|  0|  0|  0|  0|  0|  0|  0|  0|  0|   0|    0|  0|  0|  0|   0|    0|     0|  0|  0|  1|  0|  0|  0|  0|  0|  0|  0|  0|  0|  0|  0|  0|  0|  0|  0|  0|  0|  0|  0|  0|  0|  0|  0|  0|  0|  0|  0|  0|  0|  0|  0|  0|  0|  0|  0|  0|  1|  0|  0|  0|  0|  0|  0|  0|  0|  0|  0|  0|  0|  0|  0|  0|  0|\n",
      "|               abies|  1|  1|  0|  0|  1|  1|  1|  1|  1|  0|  0|  0|   0|    0|  0|  0|  0|   0|    0|     1|  1|  0|  0|  1|  1|  0|  1|  0|  0|  0|  1|  1|  1|  1|  1|  1|  1|  0|  0|  1|  1|  1|  0|  0|  1|  1|  0|  1|  1|  1|  1|  1|  1|  1|  0|  1|  1|  1|  1|  0|  1|  1|  0|  0|  1|  1|  0|  1|  1|  0|  1|  1|  1|  1|  1|  1|\n",
      "|          abies alba|  0|  0|  0|  0|  0|  0|  0|  0|  0|  0|  0|  0|   0|    0|  0|  0|  0|   0|    0|     0|  0|  0|  0|  0|  0|  0|  0|  0|  0|  0|  0|  0|  0|  0|  0|  0|  0|  0|  0|  0|  0|  1|  0|  0|  0|  0|  0|  0|  0|  0|  0|  0|  0|  0|  0|  0|  0|  0|  0|  0|  0|  0|  0|  0|  0|  0|  0|  0|  0|  0|  0|  0|  0|  0|  0|  0|\n",
      "|      abies amabilis|  0|  1|  0|  0|  0|  1|  1|  0|  0|  0|  0|  0|   0|    0|  0|  0|  0|   0|    0|     0|  0|  0|  0|  0|  0|  0|  0|  0|  0|  0|  0|  0|  0|  0|  0|  0|  0|  0|  0|  0|  0|  0|  0|  0|  0|  0|  0|  0|  0|  0|  0|  0|  0|  0|  0|  0|  1|  0|  0|  0|  0|  0|  0|  0|  0|  0|  0|  0|  0|  0|  0|  1|  0|  0|  0|  0|\n",
      "|      abies balsamea|  1|  0|  0|  0|  0|  0|  0|  0|  1|  0|  0|  0|   0|    0|  0|  0|  0|   0|    0|     1|  0|  0|  0|  1|  0|  0|  1|  0|  0|  0|  1|  1|  1|  1|  1|  1|  1|  0|  0|  0|  1|  0|  0|  0|  1|  1|  0|  0|  1|  0|  1|  0|  1|  1|  0|  1|  0|  1|  1|  0|  1|  1|  0|  0|  1|  0|  0|  0|  1|  0|  1|  0|  1|  1|  0|  0|\n",
      "|abies balsamea va...|  1|  0|  0|  0|  0|  0|  0|  0|  1|  0|  0|  0|   0|    0|  0|  0|  0|   0|    0|     1|  0|  0|  0|  1|  0|  0|  1|  0|  0|  0|  1|  1|  1|  1|  1|  1|  1|  0|  0|  0|  1|  0|  0|  0|  1|  1|  0|  0|  1|  0|  1|  0|  1|  1|  0|  1|  0|  1|  1|  0|  1|  1|  0|  0|  1|  0|  0|  0|  1|  0|  1|  0|  1|  1|  0|  0|\n",
      "|abies balsamea va...|  0|  0|  0|  0|  0|  0|  0|  0|  0|  0|  0|  0|   0|    0|  0|  0|  0|   0|    0|     0|  0|  0|  0|  0|  0|  0|  0|  0|  0|  0|  0|  0|  0|  0|  1|  0|  0|  0|  0|  0|  1|  0|  0|  0|  1|  1|  0|  0|  1|  0|  0|  0|  0|  0|  0|  1|  0|  0|  1|  0|  1|  0|  0|  0|  0|  0|  0|  0|  1|  0|  1|  0|  0|  1|  0|  0|\n",
      "|     abies bracteata|  0|  0|  0|  0|  0|  0|  1|  0|  0|  0|  0|  0|   0|    0|  0|  0|  0|   0|    0|     0|  0|  0|  0|  0|  0|  0|  0|  0|  0|  0|  0|  0|  0|  0|  0|  0|  0|  0|  0|  0|  0|  0|  0|  0|  0|  0|  0|  0|  0|  0|  0|  0|  0|  0|  0|  0|  0|  0|  0|  0|  0|  0|  0|  0|  0|  0|  0|  0|  0|  0|  0|  0|  0|  0|  0|  0|\n",
      "|      abies concolor|  0|  0|  0|  0|  1|  0|  1|  1|  0|  0|  0|  0|   0|    0|  0|  0|  0|   0|    0|     0|  0|  0|  0|  0|  1|  0|  0|  0|  0|  0|  0|  1|  0|  0|  1|  0|  0|  0|  0|  0|  0|  0|  0|  0|  0|  0|  0|  1|  0|  0|  0|  1|  0|  0|  0|  0|  1|  0|  0|  0|  0|  0|  0|  0|  0|  0|  0|  1|  0|  0|  0|  0|  0|  0|  1|  0|\n",
      "|abies concolor va...|  0|  0|  0|  0|  1|  0|  0|  1|  0|  0|  0|  0|   0|    0|  0|  0|  0|   0|    0|     0|  0|  0|  0|  0|  1|  0|  0|  0|  0|  0|  0|  1|  0|  0|  1|  0|  0|  0|  0|  0|  0|  0|  0|  0|  0|  0|  0|  1|  0|  0|  0|  1|  0|  0|  0|  0|  1|  0|  0|  0|  0|  0|  0|  0|  0|  0|  0|  1|  0|  0|  0|  0|  0|  0|  1|  0|\n",
      "|abies concolor va...|  0|  0|  0|  0|  0|  0|  1|  0|  0|  0|  0|  0|   0|    0|  0|  0|  0|   0|    0|     0|  0|  0|  0|  0|  0|  0|  0|  0|  0|  0|  0|  0|  0|  0|  0|  0|  0|  0|  0|  0|  0|  0|  0|  0|  0|  0|  0|  0|  0|  0|  0|  1|  0|  0|  0|  0|  1|  0|  0|  0|  0|  0|  0|  0|  0|  0|  0|  0|  0|  0|  0|  0|  0|  0|  0|  0|\n",
      "|       abies fraseri|  0|  0|  0|  0|  0|  0|  0|  0|  0|  0|  0|  0|   0|    0|  0|  0|  0|   0|    0|     0|  1|  0|  0|  0|  0|  0|  0|  0|  0|  0|  0|  0|  0|  0|  0|  0|  0|  0|  0|  0|  0|  1|  0|  0|  0|  0|  0|  0|  0|  0|  0|  0|  0|  0|  0|  0|  0|  0|  0|  0|  0|  0|  0|  0|  0|  1|  0|  0|  1|  0|  0|  0|  0|  0|  0|  0|\n",
      "|       abies grandis|  0|  0|  0|  0|  0|  1|  1|  0|  0|  0|  0|  0|   0|    0|  0|  0|  0|   0|    0|     0|  0|  0|  0|  0|  1|  0|  0|  0|  0|  0|  0|  0|  0|  0|  0|  0|  0|  0|  0|  1|  0|  0|  0|  0|  0|  0|  0|  0|  0|  0|  0|  0|  0|  0|  0|  0|  1|  0|  0|  0|  0|  0|  0|  0|  0|  0|  0|  0|  0|  0|  0|  1|  0|  0|  0|  0|\n",
      "|     abies homolepis|  0|  0|  0|  0|  0|  0|  0|  0|  0|  0|  0|  0|   0|    0|  0|  0|  0|   0|    0|     0|  0|  0|  0|  0|  0|  0|  0|  0|  0|  0|  0|  0|  0|  0|  0|  0|  0|  0|  0|  0|  0|  0|  0|  0|  0|  0|  0|  0|  0|  0|  0|  0|  1|  0|  0|  0|  0|  0|  0|  0|  0|  0|  0|  0|  0|  0|  0|  0|  0|  0|  0|  0|  0|  0|  0|  0|\n",
      "|    abies lasiocarpa|  1|  1|  0|  0|  1|  1|  1|  1|  0|  0|  0|  0|   0|    0|  0|  0|  0|   0|    0|     0|  0|  0|  0|  0|  1|  0|  0|  0|  0|  0|  0|  0|  0|  0|  0|  0|  0|  0|  0|  1|  0|  0|  0|  0|  0|  0|  0|  1|  0|  1|  0|  1|  0|  0|  0|  0|  1|  0|  0|  0|  0|  0|  0|  0|  0|  0|  0|  1|  0|  0|  0|  1|  0|  0|  1|  1|\n",
      "|abies lasiocarpa ...|  0|  0|  0|  0|  1|  0|  0|  1|  0|  0|  0|  0|   0|    0|  0|  0|  0|   0|    0|     0|  0|  0|  0|  0|  0|  0|  0|  0|  0|  0|  0|  0|  0|  0|  0|  0|  0|  0|  0|  0|  0|  0|  0|  0|  0|  0|  0|  1|  0|  0|  0|  0|  0|  0|  0|  0|  0|  0|  0|  0|  0|  0|  0|  0|  0|  0|  0|  0|  0|  0|  0|  0|  0|  0|  0|  0|\n",
      "+--------------------+---+---+---+---+---+---+---+---+---+---+---+---+----+-----+---+---+---+----+-----+------+---+---+---+---+---+---+---+---+---+---+---+---+---+---+---+---+---+---+---+---+---+---+---+---+---+---+---+---+---+---+---+---+---+---+---+---+---+---+---+---+---+---+---+---+---+---+---+---+---+---+---+---+---+---+---+---+\n",
      "only showing top 20 rows\n",
      "\n"
     ]
    }
   ],
   "source": [
    "df_plant.show()"
   ]
  },
  {
   "cell_type": "code",
   "execution_count": 10,
   "metadata": {
    "colab": {
     "base_uri": "https://localhost:8080/"
    },
    "id": "uHkhZe4NFHQn",
    "outputId": "01abe349-aba8-45f9-a9a3-75fc7707ffe8"
   },
   "outputs": [
    {
     "name": "stdout",
     "output_type": "stream",
     "text": [
      "root\n",
      " |-- specie: string (nullable = true)\n",
      " |-- ab: long (nullable = true)\n",
      " |-- ak: long (nullable = true)\n",
      " |-- al: long (nullable = true)\n",
      " |-- ar: long (nullable = true)\n",
      " |-- az: long (nullable = true)\n",
      " |-- bc: long (nullable = true)\n",
      " |-- ca: long (nullable = true)\n",
      " |-- co: long (nullable = true)\n",
      " |-- ct: long (nullable = true)\n",
      " |-- dc: long (nullable = true)\n",
      " |-- de: long (nullable = true)\n",
      " |-- den: long (nullable = true)\n",
      " |-- deng: long (nullable = true)\n",
      " |-- dengl: long (nullable = true)\n",
      " |-- fl: long (nullable = true)\n",
      " |-- fr: long (nullable = true)\n",
      " |-- fra: long (nullable = true)\n",
      " |-- fras: long (nullable = true)\n",
      " |-- frasp: long (nullable = true)\n",
      " |-- fraspm: long (nullable = true)\n",
      " |-- ga: long (nullable = true)\n",
      " |-- gl: long (nullable = true)\n",
      " |-- hi: long (nullable = true)\n",
      " |-- ia: long (nullable = true)\n",
      " |-- id: long (nullable = true)\n",
      " |-- il: long (nullable = true)\n",
      " |-- in: long (nullable = true)\n",
      " |-- ks: long (nullable = true)\n",
      " |-- ky: long (nullable = true)\n",
      " |-- la: long (nullable = true)\n",
      " |-- lb: long (nullable = true)\n",
      " |-- ma: long (nullable = true)\n",
      " |-- mb: long (nullable = true)\n",
      " |-- md: long (nullable = true)\n",
      " |-- me: long (nullable = true)\n",
      " |-- mi: long (nullable = true)\n",
      " |-- mn: long (nullable = true)\n",
      " |-- mo: long (nullable = true)\n",
      " |-- ms: long (nullable = true)\n",
      " |-- mt: long (nullable = true)\n",
      " |-- nb: long (nullable = true)\n",
      " |-- nc: long (nullable = true)\n",
      " |-- nd: long (nullable = true)\n",
      " |-- ne: long (nullable = true)\n",
      " |-- nf: long (nullable = true)\n",
      " |-- nh: long (nullable = true)\n",
      " |-- nj: long (nullable = true)\n",
      " |-- nm: long (nullable = true)\n",
      " |-- ns: long (nullable = true)\n",
      " |-- nt: long (nullable = true)\n",
      " |-- nu: long (nullable = true)\n",
      " |-- nv: long (nullable = true)\n",
      " |-- ny: long (nullable = true)\n",
      " |-- oh: long (nullable = true)\n",
      " |-- ok: long (nullable = true)\n",
      " |-- on: long (nullable = true)\n",
      " |-- or: long (nullable = true)\n",
      " |-- pa: long (nullable = true)\n",
      " |-- pe: long (nullable = true)\n",
      " |-- pr: long (nullable = true)\n",
      " |-- qc: long (nullable = true)\n",
      " |-- ri: long (nullable = true)\n",
      " |-- sc: long (nullable = true)\n",
      " |-- sd: long (nullable = true)\n",
      " |-- sk: long (nullable = true)\n",
      " |-- tn: long (nullable = true)\n",
      " |-- tx: long (nullable = true)\n",
      " |-- ut: long (nullable = true)\n",
      " |-- va: long (nullable = true)\n",
      " |-- vi: long (nullable = true)\n",
      " |-- vt: long (nullable = true)\n",
      " |-- wa: long (nullable = true)\n",
      " |-- wi: long (nullable = true)\n",
      " |-- wv: long (nullable = true)\n",
      " |-- wy: long (nullable = true)\n",
      " |-- yt: long (nullable = true)\n",
      "\n"
     ]
    }
   ],
   "source": [
    "df_plant.printSchema()"
   ]
  },
  {
   "cell_type": "markdown",
   "metadata": {
    "id": "VEXQacEZNM4F"
   },
   "source": [
    "#### Lưu dữ liệu đã tiền xử lý"
   ]
  },
  {
   "cell_type": "code",
   "execution_count": 11,
   "metadata": {
    "id": "hLXoRzDfNVTy"
   },
   "outputs": [
    {
     "name": "stderr",
     "output_type": "stream",
     "text": [
      "22/01/28 20:37:15 WARN TaskSetManager: Stage 2 contains a task of very large size (1441 KiB). The maximum recommended task size is 1000 KiB.\n",
      "                                                                                \r"
     ]
    }
   ],
   "source": [
    "df_plant.write.option( 'header', True).csv(data_path + '/plants.csv')"
   ]
  },
  {
   "cell_type": "code",
   "execution_count": 12,
   "metadata": {
    "colab": {
     "base_uri": "https://localhost:8080/"
    },
    "id": "BJ4usx7XPwC_",
    "outputId": "96f3b0a9-bf7d-49f7-b34a-29b3748d2649"
   },
   "outputs": [
    {
     "name": "stdout",
     "output_type": "stream",
     "text": [
      "mushrooms.csv  orders.csv  plants.csv  plants.rar  products.csv\r\n"
     ]
    }
   ],
   "source": [
    "!ls ./Lab04-Data/"
   ]
  },
  {
   "cell_type": "markdown",
   "metadata": {
    "id": "FYpfzalAQOI_"
   },
   "source": [
    "### 2. Kmean"
   ]
  },
  {
   "cell_type": "markdown",
   "metadata": {
    "id": "WQDa8cbp8IiQ"
   },
   "source": [
    "Tất cả các thuộc tính đang được xem xét đều là số hoặc số rời rạc (numeric), do đó chúng ta cần chuyển đổi chúng thành các features bằng cách sử dụng Vector Assembler (transformer).\n",
    "\n",
    "Vector Assembler(): chuyển đổi một tập hợp các cột features thành một một mảng/vectơ các features."
   ]
  },
  {
   "cell_type": "code",
   "execution_count": 13,
   "metadata": {
    "id": "6DvdBFTFQUsI"
   },
   "outputs": [],
   "source": [
    "from pyspark.ml.feature import VectorAssembler\n",
    "\n",
    "# feature engineering\n",
    "inputCols = df_plant.columns[1:] # lấy các cột làm đầu vào cho vectorassembler (ngoại trừ cột tên loài)\n",
    "feature_ass = VectorAssembler(inputCols = inputCols, outputCol = \"features\") # chuyển các cột input vào cho VTAssembler\n",
    "data = feature_ass.transform(df_plant) # Transform- - chuyển đổi các cột input thành một vector (mảng) duy nhất"
   ]
  },
  {
   "cell_type": "code",
   "execution_count": 14,
   "metadata": {
    "colab": {
     "base_uri": "https://localhost:8080/"
    },
    "id": "7Lxo5LpyoZdF",
    "outputId": "356d27a0-de5d-423e-8bdb-adac3f5ee13a"
   },
   "outputs": [
    {
     "name": "stderr",
     "output_type": "stream",
     "text": [
      "22/01/28 20:37:18 WARN TaskSetManager: Stage 3 contains a task of very large size (1441 KiB). The maximum recommended task size is 1000 KiB.\n"
     ]
    },
    {
     "name": "stdout",
     "output_type": "stream",
     "text": [
      "+--------------------+---+---+---+---+---+---+---+---+---+---+---+---+----+-----+---+---+---+----+-----+------+---+---+---+---+---+---+---+---+---+---+---+---+---+---+---+---+---+---+---+---+---+---+---+---+---+---+---+---+---+---+---+---+---+---+---+---+---+---+---+---+---+---+---+---+---+---+---+---+---+---+---+---+---+---+---+---+--------------------+\n",
      "|              specie| ab| ak| al| ar| az| bc| ca| co| ct| dc| de|den|deng|dengl| fl| fr|fra|fras|frasp|fraspm| ga| gl| hi| ia| id| il| in| ks| ky| la| lb| ma| mb| md| me| mi| mn| mo| ms| mt| nb| nc| nd| ne| nf| nh| nj| nm| ns| nt| nu| nv| ny| oh| ok| on| or| pa| pe| pr| qc| ri| sc| sd| sk| tn| tx| ut| va| vi| vt| wa| wi| wv| wy| yt|            features|\n",
      "+--------------------+---+---+---+---+---+---+---+---+---+---+---+---+----+-----+---+---+---+----+-----+------+---+---+---+---+---+---+---+---+---+---+---+---+---+---+---+---+---+---+---+---+---+---+---+---+---+---+---+---+---+---+---+---+---+---+---+---+---+---+---+---+---+---+---+---+---+---+---+---+---+---+---+---+---+---+---+---+--------------------+\n",
      "|              abelia|  0|  0|  0|  0|  0|  0|  0|  0|  0|  0|  0|  0|   0|    0|  1|  0|  0|   0|    0|     0|  0|  0|  0|  0|  0|  0|  0|  0|  0|  0|  0|  0|  0|  0|  0|  0|  0|  0|  0|  0|  0|  1|  0|  0|  0|  0|  0|  0|  0|  0|  0|  0|  0|  0|  0|  0|  0|  0|  0|  0|  0|  0|  0|  0|  0|  0|  0|  0|  0|  0|  0|  0|  0|  0|  0|  0|(76,[14,41],[1.0,...|\n",
      "|abelia x grandiflora|  0|  0|  0|  0|  0|  0|  0|  0|  0|  0|  0|  0|   0|    0|  1|  0|  0|   0|    0|     0|  0|  0|  0|  0|  0|  0|  0|  0|  0|  0|  0|  0|  0|  0|  0|  0|  0|  0|  0|  0|  0|  1|  0|  0|  0|  0|  0|  0|  0|  0|  0|  0|  0|  0|  0|  0|  0|  0|  0|  0|  0|  0|  0|  0|  0|  0|  0|  0|  0|  0|  0|  0|  0|  0|  0|  0|(76,[14,41],[1.0,...|\n",
      "|         abelmoschus|  0|  0|  0|  0|  0|  0|  0|  0|  1|  1|  0|  0|   0|    0|  1|  0|  0|   0|    0|     0|  0|  0|  1|  0|  0|  1|  0|  0|  1|  1|  0|  0|  0|  1|  0|  1|  0|  0|  1|  0|  0|  1|  0|  0|  0|  0|  0|  0|  0|  0|  0|  0|  0|  0|  0|  0|  0|  0|  0|  1|  0|  0|  1|  0|  0|  0|  0|  0|  1|  1|  0|  0|  0|  0|  0|  0|(76,[8,9,14,22,25...|\n",
      "|abelmoschus escul...|  0|  0|  0|  0|  0|  0|  0|  0|  1|  1|  0|  0|   0|    0|  1|  0|  0|   0|    0|     0|  0|  0|  0|  0|  0|  1|  0|  0|  1|  1|  0|  0|  0|  1|  0|  1|  0|  0|  1|  0|  0|  1|  0|  0|  0|  0|  0|  0|  0|  0|  0|  0|  0|  0|  0|  0|  0|  0|  0|  1|  0|  0|  1|  0|  0|  0|  0|  0|  1|  1|  0|  0|  0|  0|  0|  0|(76,[8,9,14,25,28...|\n",
      "|abelmoschus mosch...|  0|  0|  0|  0|  0|  0|  0|  0|  0|  0|  0|  0|   0|    0|  0|  0|  0|   0|    0|     0|  0|  0|  1|  0|  0|  0|  0|  0|  0|  0|  0|  0|  0|  0|  0|  0|  0|  0|  0|  0|  0|  0|  0|  0|  0|  0|  0|  0|  0|  0|  0|  0|  0|  0|  0|  0|  0|  0|  0|  1|  0|  0|  0|  0|  0|  0|  0|  0|  0|  0|  0|  0|  0|  0|  0|  0|(76,[22,59],[1.0,...|\n",
      "|               abies|  1|  1|  0|  0|  1|  1|  1|  1|  1|  0|  0|  0|   0|    0|  0|  0|  0|   0|    0|     1|  1|  0|  0|  1|  1|  0|  1|  0|  0|  0|  1|  1|  1|  1|  1|  1|  1|  0|  0|  1|  1|  1|  0|  0|  1|  1|  0|  1|  1|  1|  1|  1|  1|  1|  0|  1|  1|  1|  1|  0|  1|  1|  0|  0|  1|  1|  0|  1|  1|  0|  1|  1|  1|  1|  1|  1|(76,[0,1,4,5,6,7,...|\n",
      "|          abies alba|  0|  0|  0|  0|  0|  0|  0|  0|  0|  0|  0|  0|   0|    0|  0|  0|  0|   0|    0|     0|  0|  0|  0|  0|  0|  0|  0|  0|  0|  0|  0|  0|  0|  0|  0|  0|  0|  0|  0|  0|  0|  1|  0|  0|  0|  0|  0|  0|  0|  0|  0|  0|  0|  0|  0|  0|  0|  0|  0|  0|  0|  0|  0|  0|  0|  0|  0|  0|  0|  0|  0|  0|  0|  0|  0|  0|     (76,[41],[1.0])|\n",
      "|      abies amabilis|  0|  1|  0|  0|  0|  1|  1|  0|  0|  0|  0|  0|   0|    0|  0|  0|  0|   0|    0|     0|  0|  0|  0|  0|  0|  0|  0|  0|  0|  0|  0|  0|  0|  0|  0|  0|  0|  0|  0|  0|  0|  0|  0|  0|  0|  0|  0|  0|  0|  0|  0|  0|  0|  0|  0|  0|  1|  0|  0|  0|  0|  0|  0|  0|  0|  0|  0|  0|  0|  0|  0|  1|  0|  0|  0|  0|(76,[1,5,6,56,71]...|\n",
      "|      abies balsamea|  1|  0|  0|  0|  0|  0|  0|  0|  1|  0|  0|  0|   0|    0|  0|  0|  0|   0|    0|     1|  0|  0|  0|  1|  0|  0|  1|  0|  0|  0|  1|  1|  1|  1|  1|  1|  1|  0|  0|  0|  1|  0|  0|  0|  1|  1|  0|  0|  1|  0|  1|  0|  1|  1|  0|  1|  0|  1|  1|  0|  1|  1|  0|  0|  1|  0|  0|  0|  1|  0|  1|  0|  1|  1|  0|  0|(76,[0,8,19,23,26...|\n",
      "|abies balsamea va...|  1|  0|  0|  0|  0|  0|  0|  0|  1|  0|  0|  0|   0|    0|  0|  0|  0|   0|    0|     1|  0|  0|  0|  1|  0|  0|  1|  0|  0|  0|  1|  1|  1|  1|  1|  1|  1|  0|  0|  0|  1|  0|  0|  0|  1|  1|  0|  0|  1|  0|  1|  0|  1|  1|  0|  1|  0|  1|  1|  0|  1|  1|  0|  0|  1|  0|  0|  0|  1|  0|  1|  0|  1|  1|  0|  0|(76,[0,8,19,23,26...|\n",
      "|abies balsamea va...|  0|  0|  0|  0|  0|  0|  0|  0|  0|  0|  0|  0|   0|    0|  0|  0|  0|   0|    0|     0|  0|  0|  0|  0|  0|  0|  0|  0|  0|  0|  0|  0|  0|  0|  1|  0|  0|  0|  0|  0|  1|  0|  0|  0|  1|  1|  0|  0|  1|  0|  0|  0|  0|  0|  0|  1|  0|  0|  1|  0|  1|  0|  0|  0|  0|  0|  0|  0|  1|  0|  1|  0|  0|  1|  0|  0|(76,[34,40,44,45,...|\n",
      "|     abies bracteata|  0|  0|  0|  0|  0|  0|  1|  0|  0|  0|  0|  0|   0|    0|  0|  0|  0|   0|    0|     0|  0|  0|  0|  0|  0|  0|  0|  0|  0|  0|  0|  0|  0|  0|  0|  0|  0|  0|  0|  0|  0|  0|  0|  0|  0|  0|  0|  0|  0|  0|  0|  0|  0|  0|  0|  0|  0|  0|  0|  0|  0|  0|  0|  0|  0|  0|  0|  0|  0|  0|  0|  0|  0|  0|  0|  0|      (76,[6],[1.0])|\n",
      "|      abies concolor|  0|  0|  0|  0|  1|  0|  1|  1|  0|  0|  0|  0|   0|    0|  0|  0|  0|   0|    0|     0|  0|  0|  0|  0|  1|  0|  0|  0|  0|  0|  0|  1|  0|  0|  1|  0|  0|  0|  0|  0|  0|  0|  0|  0|  0|  0|  0|  1|  0|  0|  0|  1|  0|  0|  0|  0|  1|  0|  0|  0|  0|  0|  0|  0|  0|  0|  0|  1|  0|  0|  0|  0|  0|  0|  1|  0|(76,[4,6,7,24,31,...|\n",
      "|abies concolor va...|  0|  0|  0|  0|  1|  0|  0|  1|  0|  0|  0|  0|   0|    0|  0|  0|  0|   0|    0|     0|  0|  0|  0|  0|  1|  0|  0|  0|  0|  0|  0|  1|  0|  0|  1|  0|  0|  0|  0|  0|  0|  0|  0|  0|  0|  0|  0|  1|  0|  0|  0|  1|  0|  0|  0|  0|  1|  0|  0|  0|  0|  0|  0|  0|  0|  0|  0|  1|  0|  0|  0|  0|  0|  0|  1|  0|(76,[4,7,24,31,34...|\n",
      "|abies concolor va...|  0|  0|  0|  0|  0|  0|  1|  0|  0|  0|  0|  0|   0|    0|  0|  0|  0|   0|    0|     0|  0|  0|  0|  0|  0|  0|  0|  0|  0|  0|  0|  0|  0|  0|  0|  0|  0|  0|  0|  0|  0|  0|  0|  0|  0|  0|  0|  0|  0|  0|  0|  1|  0|  0|  0|  0|  1|  0|  0|  0|  0|  0|  0|  0|  0|  0|  0|  0|  0|  0|  0|  0|  0|  0|  0|  0|(76,[6,51,56],[1....|\n",
      "|       abies fraseri|  0|  0|  0|  0|  0|  0|  0|  0|  0|  0|  0|  0|   0|    0|  0|  0|  0|   0|    0|     0|  1|  0|  0|  0|  0|  0|  0|  0|  0|  0|  0|  0|  0|  0|  0|  0|  0|  0|  0|  0|  0|  1|  0|  0|  0|  0|  0|  0|  0|  0|  0|  0|  0|  0|  0|  0|  0|  0|  0|  0|  0|  0|  0|  0|  0|  1|  0|  0|  1|  0|  0|  0|  0|  0|  0|  0|(76,[20,41,65,68]...|\n",
      "|       abies grandis|  0|  0|  0|  0|  0|  1|  1|  0|  0|  0|  0|  0|   0|    0|  0|  0|  0|   0|    0|     0|  0|  0|  0|  0|  1|  0|  0|  0|  0|  0|  0|  0|  0|  0|  0|  0|  0|  0|  0|  1|  0|  0|  0|  0|  0|  0|  0|  0|  0|  0|  0|  0|  0|  0|  0|  0|  1|  0|  0|  0|  0|  0|  0|  0|  0|  0|  0|  0|  0|  0|  0|  1|  0|  0|  0|  0|(76,[5,6,24,39,56...|\n",
      "|     abies homolepis|  0|  0|  0|  0|  0|  0|  0|  0|  0|  0|  0|  0|   0|    0|  0|  0|  0|   0|    0|     0|  0|  0|  0|  0|  0|  0|  0|  0|  0|  0|  0|  0|  0|  0|  0|  0|  0|  0|  0|  0|  0|  0|  0|  0|  0|  0|  0|  0|  0|  0|  0|  0|  1|  0|  0|  0|  0|  0|  0|  0|  0|  0|  0|  0|  0|  0|  0|  0|  0|  0|  0|  0|  0|  0|  0|  0|     (76,[52],[1.0])|\n",
      "|    abies lasiocarpa|  1|  1|  0|  0|  1|  1|  1|  1|  0|  0|  0|  0|   0|    0|  0|  0|  0|   0|    0|     0|  0|  0|  0|  0|  1|  0|  0|  0|  0|  0|  0|  0|  0|  0|  0|  0|  0|  0|  0|  1|  0|  0|  0|  0|  0|  0|  0|  1|  0|  1|  0|  1|  0|  0|  0|  0|  1|  0|  0|  0|  0|  0|  0|  0|  0|  0|  0|  1|  0|  0|  0|  1|  0|  0|  1|  1|(76,[0,1,4,5,6,7,...|\n",
      "|abies lasiocarpa ...|  0|  0|  0|  0|  1|  0|  0|  1|  0|  0|  0|  0|   0|    0|  0|  0|  0|   0|    0|     0|  0|  0|  0|  0|  0|  0|  0|  0|  0|  0|  0|  0|  0|  0|  0|  0|  0|  0|  0|  0|  0|  0|  0|  0|  0|  0|  0|  1|  0|  0|  0|  0|  0|  0|  0|  0|  0|  0|  0|  0|  0|  0|  0|  0|  0|  0|  0|  0|  0|  0|  0|  0|  0|  0|  0|  0|(76,[4,7,47],[1.0...|\n",
      "+--------------------+---+---+---+---+---+---+---+---+---+---+---+---+----+-----+---+---+---+----+-----+------+---+---+---+---+---+---+---+---+---+---+---+---+---+---+---+---+---+---+---+---+---+---+---+---+---+---+---+---+---+---+---+---+---+---+---+---+---+---+---+---+---+---+---+---+---+---+---+---+---+---+---+---+---+---+---+---+--------------------+\n",
      "only showing top 20 rows\n",
      "\n"
     ]
    }
   ],
   "source": [
    "data.show()"
   ]
  },
  {
   "cell_type": "markdown",
   "metadata": {
    "id": "vuS2xqyN-n-l"
   },
   "source": [
    "Huấn luyện model Kmean\n"
   ]
  },
  {
   "cell_type": "code",
   "execution_count": 15,
   "metadata": {
    "colab": {
     "base_uri": "https://localhost:8080/"
    },
    "id": "jSRQyGVRR2Ry",
    "outputId": "8ba2847b-bcaf-400c-d414-2020a2b9b095"
   },
   "outputs": [
    {
     "name": "stdout",
     "output_type": "stream",
     "text": [
      "\n",
      "==========K = 2=============\n",
      "\n"
     ]
    },
    {
     "name": "stderr",
     "output_type": "stream",
     "text": [
      "22/01/28 20:37:19 WARN TaskSetManager: Stage 4 contains a task of very large size (1441 KiB). The maximum recommended task size is 1000 KiB.\n",
      "22/01/28 20:37:21 WARN TaskSetManager: Stage 5 contains a task of very large size (1441 KiB). The maximum recommended task size is 1000 KiB.\n",
      "22/01/28 20:37:21 WARN TaskSetManager: Stage 6 contains a task of very large size (1441 KiB). The maximum recommended task size is 1000 KiB.\n",
      "22/01/28 20:37:21 WARN TaskSetManager: Stage 7 contains a task of very large size (1441 KiB). The maximum recommended task size is 1000 KiB.\n",
      "22/01/28 20:37:22 WARN TaskSetManager: Stage 8 contains a task of very large size (1441 KiB). The maximum recommended task size is 1000 KiB.\n",
      "22/01/28 20:37:22 WARN TaskSetManager: Stage 9 contains a task of very large size (1441 KiB). The maximum recommended task size is 1000 KiB.\n",
      "22/01/28 20:37:22 WARN TaskSetManager: Stage 10 contains a task of very large size (1441 KiB). The maximum recommended task size is 1000 KiB.\n",
      "22/01/28 20:37:23 WARN TaskSetManager: Stage 12 contains a task of very large size (1441 KiB). The maximum recommended task size is 1000 KiB.\n",
      "22/01/28 20:37:23 WARN TaskSetManager: Stage 14 contains a task of very large size (1441 KiB). The maximum recommended task size is 1000 KiB.\n",
      "22/01/28 20:37:23 WARN TaskSetManager: Stage 16 contains a task of very large size (1441 KiB). The maximum recommended task size is 1000 KiB.\n",
      "22/01/28 20:37:23 WARN TaskSetManager: Stage 18 contains a task of very large size (1441 KiB). The maximum recommended task size is 1000 KiB.\n",
      "22/01/28 20:37:24 WARN TaskSetManager: Stage 20 contains a task of very large size (1441 KiB). The maximum recommended task size is 1000 KiB.\n",
      "22/01/28 20:37:24 WARN TaskSetManager: Stage 22 contains a task of very large size (1441 KiB). The maximum recommended task size is 1000 KiB.\n",
      "22/01/28 20:37:24 WARN TaskSetManager: Stage 24 contains a task of very large size (1441 KiB). The maximum recommended task size is 1000 KiB.\n",
      "22/01/28 20:37:24 WARN TaskSetManager: Stage 26 contains a task of very large size (1441 KiB). The maximum recommended task size is 1000 KiB.\n",
      "22/01/28 20:37:26 WARN TaskSetManager: Stage 29 contains a task of very large size (1441 KiB). The maximum recommended task size is 1000 KiB.\n",
      "22/01/28 20:37:27 WARN TaskSetManager: Stage 31 contains a task of very large size (1441 KiB). The maximum recommended task size is 1000 KiB.\n",
      "                                                                                \r"
     ]
    },
    {
     "name": "stdout",
     "output_type": "stream",
     "text": [
      "score = 0.7163664052872065\n",
      "\n",
      "==========K = 3=============\n",
      "\n"
     ]
    },
    {
     "name": "stderr",
     "output_type": "stream",
     "text": [
      "22/01/28 20:37:28 WARN TaskSetManager: Stage 34 contains a task of very large size (1441 KiB). The maximum recommended task size is 1000 KiB.\n",
      "22/01/28 20:37:29 WARN TaskSetManager: Stage 35 contains a task of very large size (1441 KiB). The maximum recommended task size is 1000 KiB.\n",
      "22/01/28 20:37:29 WARN TaskSetManager: Stage 36 contains a task of very large size (1441 KiB). The maximum recommended task size is 1000 KiB.\n",
      "22/01/28 20:37:29 WARN TaskSetManager: Stage 37 contains a task of very large size (1441 KiB). The maximum recommended task size is 1000 KiB.\n",
      "22/01/28 20:37:29 WARN TaskSetManager: Stage 38 contains a task of very large size (1441 KiB). The maximum recommended task size is 1000 KiB.\n",
      "22/01/28 20:37:29 WARN TaskSetManager: Stage 39 contains a task of very large size (1441 KiB). The maximum recommended task size is 1000 KiB.\n",
      "22/01/28 20:37:29 WARN TaskSetManager: Stage 40 contains a task of very large size (1441 KiB). The maximum recommended task size is 1000 KiB.\n",
      "22/01/28 20:37:30 WARN TaskSetManager: Stage 42 contains a task of very large size (1441 KiB). The maximum recommended task size is 1000 KiB.\n",
      "22/01/28 20:37:30 WARN TaskSetManager: Stage 44 contains a task of very large size (1441 KiB). The maximum recommended task size is 1000 KiB.\n",
      "22/01/28 20:37:30 WARN TaskSetManager: Stage 46 contains a task of very large size (1441 KiB). The maximum recommended task size is 1000 KiB.\n",
      "22/01/28 20:37:30 WARN TaskSetManager: Stage 48 contains a task of very large size (1441 KiB). The maximum recommended task size is 1000 KiB.\n",
      "22/01/28 20:37:30 WARN TaskSetManager: Stage 50 contains a task of very large size (1441 KiB). The maximum recommended task size is 1000 KiB.\n",
      "22/01/28 20:37:30 WARN TaskSetManager: Stage 52 contains a task of very large size (1441 KiB). The maximum recommended task size is 1000 KiB.\n",
      "22/01/28 20:37:30 WARN TaskSetManager: Stage 54 contains a task of very large size (1441 KiB). The maximum recommended task size is 1000 KiB.\n",
      "22/01/28 20:37:30 WARN TaskSetManager: Stage 56 contains a task of very large size (1441 KiB). The maximum recommended task size is 1000 KiB.\n",
      "22/01/28 20:37:30 WARN TaskSetManager: Stage 58 contains a task of very large size (1441 KiB). The maximum recommended task size is 1000 KiB.\n",
      "22/01/28 20:37:30 WARN TaskSetManager: Stage 60 contains a task of very large size (1441 KiB). The maximum recommended task size is 1000 KiB.\n",
      "22/01/28 20:37:31 WARN TaskSetManager: Stage 62 contains a task of very large size (1441 KiB). The maximum recommended task size is 1000 KiB.\n",
      "22/01/28 20:37:31 WARN TaskSetManager: Stage 64 contains a task of very large size (1441 KiB). The maximum recommended task size is 1000 KiB.\n",
      "22/01/28 20:37:31 WARN TaskSetManager: Stage 66 contains a task of very large size (1441 KiB). The maximum recommended task size is 1000 KiB.\n",
      "22/01/28 20:37:31 WARN TaskSetManager: Stage 68 contains a task of very large size (1441 KiB). The maximum recommended task size is 1000 KiB.\n",
      "22/01/28 20:37:31 WARN TaskSetManager: Stage 70 contains a task of very large size (1441 KiB). The maximum recommended task size is 1000 KiB.\n",
      "22/01/28 20:37:31 WARN TaskSetManager: Stage 72 contains a task of very large size (1441 KiB). The maximum recommended task size is 1000 KiB.\n",
      "22/01/28 20:37:31 WARN TaskSetManager: Stage 74 contains a task of very large size (1441 KiB). The maximum recommended task size is 1000 KiB.\n",
      "22/01/28 20:37:31 WARN TaskSetManager: Stage 76 contains a task of very large size (1441 KiB). The maximum recommended task size is 1000 KiB.\n",
      "22/01/28 20:37:31 WARN TaskSetManager: Stage 78 contains a task of very large size (1441 KiB). The maximum recommended task size is 1000 KiB.\n",
      "22/01/28 20:37:31 WARN TaskSetManager: Stage 80 contains a task of very large size (1441 KiB). The maximum recommended task size is 1000 KiB.\n",
      "22/01/28 20:37:31 WARN TaskSetManager: Stage 82 contains a task of very large size (1441 KiB). The maximum recommended task size is 1000 KiB.\n",
      "22/01/28 20:37:32 WARN TaskSetManager: Stage 85 contains a task of very large size (1441 KiB). The maximum recommended task size is 1000 KiB.\n",
      "22/01/28 20:37:33 WARN TaskSetManager: Stage 87 contains a task of very large size (1441 KiB). The maximum recommended task size is 1000 KiB.\n"
     ]
    },
    {
     "name": "stdout",
     "output_type": "stream",
     "text": [
      "score = 0.5783454170344543\n",
      "\n",
      "==========K = 4=============\n",
      "\n"
     ]
    },
    {
     "name": "stderr",
     "output_type": "stream",
     "text": [
      "22/01/28 20:37:33 WARN TaskSetManager: Stage 90 contains a task of very large size (1441 KiB). The maximum recommended task size is 1000 KiB.\n",
      "22/01/28 20:37:34 WARN TaskSetManager: Stage 91 contains a task of very large size (1441 KiB). The maximum recommended task size is 1000 KiB.\n",
      "22/01/28 20:37:34 WARN TaskSetManager: Stage 92 contains a task of very large size (1441 KiB). The maximum recommended task size is 1000 KiB.\n",
      "22/01/28 20:37:35 WARN TaskSetManager: Stage 93 contains a task of very large size (1441 KiB). The maximum recommended task size is 1000 KiB.\n",
      "22/01/28 20:37:35 WARN TaskSetManager: Stage 94 contains a task of very large size (1441 KiB). The maximum recommended task size is 1000 KiB.\n",
      "22/01/28 20:37:35 WARN TaskSetManager: Stage 95 contains a task of very large size (1441 KiB). The maximum recommended task size is 1000 KiB.\n",
      "22/01/28 20:37:35 WARN TaskSetManager: Stage 96 contains a task of very large size (1441 KiB). The maximum recommended task size is 1000 KiB.\n",
      "22/01/28 20:37:35 WARN TaskSetManager: Stage 98 contains a task of very large size (1441 KiB). The maximum recommended task size is 1000 KiB.\n",
      "22/01/28 20:37:35 WARN TaskSetManager: Stage 100 contains a task of very large size (1441 KiB). The maximum recommended task size is 1000 KiB.\n",
      "22/01/28 20:37:35 WARN TaskSetManager: Stage 102 contains a task of very large size (1441 KiB). The maximum recommended task size is 1000 KiB.\n",
      "22/01/28 20:37:35 WARN TaskSetManager: Stage 104 contains a task of very large size (1441 KiB). The maximum recommended task size is 1000 KiB.\n",
      "22/01/28 20:37:35 WARN TaskSetManager: Stage 106 contains a task of very large size (1441 KiB). The maximum recommended task size is 1000 KiB.\n",
      "22/01/28 20:37:35 WARN TaskSetManager: Stage 108 contains a task of very large size (1441 KiB). The maximum recommended task size is 1000 KiB.\n",
      "22/01/28 20:37:35 WARN TaskSetManager: Stage 110 contains a task of very large size (1441 KiB). The maximum recommended task size is 1000 KiB.\n",
      "22/01/28 20:37:35 WARN TaskSetManager: Stage 112 contains a task of very large size (1441 KiB). The maximum recommended task size is 1000 KiB.\n",
      "22/01/28 20:37:35 WARN TaskSetManager: Stage 114 contains a task of very large size (1441 KiB). The maximum recommended task size is 1000 KiB.\n",
      "22/01/28 20:37:35 WARN TaskSetManager: Stage 116 contains a task of very large size (1441 KiB). The maximum recommended task size is 1000 KiB.\n",
      "22/01/28 20:37:36 WARN TaskSetManager: Stage 118 contains a task of very large size (1441 KiB). The maximum recommended task size is 1000 KiB.\n",
      "22/01/28 20:37:36 WARN TaskSetManager: Stage 120 contains a task of very large size (1441 KiB). The maximum recommended task size is 1000 KiB.\n",
      "22/01/28 20:37:36 WARN TaskSetManager: Stage 122 contains a task of very large size (1441 KiB). The maximum recommended task size is 1000 KiB.\n",
      "22/01/28 20:37:36 WARN TaskSetManager: Stage 124 contains a task of very large size (1441 KiB). The maximum recommended task size is 1000 KiB.\n",
      "22/01/28 20:37:36 WARN TaskSetManager: Stage 126 contains a task of very large size (1441 KiB). The maximum recommended task size is 1000 KiB.\n",
      "22/01/28 20:37:36 WARN TaskSetManager: Stage 128 contains a task of very large size (1441 KiB). The maximum recommended task size is 1000 KiB.\n",
      "22/01/28 20:37:36 WARN TaskSetManager: Stage 130 contains a task of very large size (1441 KiB). The maximum recommended task size is 1000 KiB.\n",
      "22/01/28 20:37:36 WARN TaskSetManager: Stage 132 contains a task of very large size (1441 KiB). The maximum recommended task size is 1000 KiB.\n",
      "22/01/28 20:37:36 WARN TaskSetManager: Stage 134 contains a task of very large size (1441 KiB). The maximum recommended task size is 1000 KiB.\n",
      "22/01/28 20:37:36 WARN TaskSetManager: Stage 136 contains a task of very large size (1441 KiB). The maximum recommended task size is 1000 KiB.\n",
      "22/01/28 20:37:36 WARN TaskSetManager: Stage 138 contains a task of very large size (1441 KiB). The maximum recommended task size is 1000 KiB.\n",
      "22/01/28 20:37:37 WARN TaskSetManager: Stage 141 contains a task of very large size (1441 KiB). The maximum recommended task size is 1000 KiB.\n",
      "22/01/28 20:37:38 WARN TaskSetManager: Stage 143 contains a task of very large size (1441 KiB). The maximum recommended task size is 1000 KiB.\n"
     ]
    },
    {
     "name": "stdout",
     "output_type": "stream",
     "text": [
      "score = 0.5225292282481627\n",
      "\n",
      "==========K = 5=============\n",
      "\n"
     ]
    },
    {
     "name": "stderr",
     "output_type": "stream",
     "text": [
      "22/01/28 20:37:38 WARN TaskSetManager: Stage 146 contains a task of very large size (1441 KiB). The maximum recommended task size is 1000 KiB.\n",
      "22/01/28 20:37:39 WARN TaskSetManager: Stage 147 contains a task of very large size (1441 KiB). The maximum recommended task size is 1000 KiB.\n",
      "22/01/28 20:37:39 WARN TaskSetManager: Stage 148 contains a task of very large size (1441 KiB). The maximum recommended task size is 1000 KiB.\n",
      "22/01/28 20:37:39 WARN TaskSetManager: Stage 149 contains a task of very large size (1441 KiB). The maximum recommended task size is 1000 KiB.\n",
      "22/01/28 20:37:39 WARN TaskSetManager: Stage 150 contains a task of very large size (1441 KiB). The maximum recommended task size is 1000 KiB.\n",
      "22/01/28 20:37:39 WARN TaskSetManager: Stage 151 contains a task of very large size (1441 KiB). The maximum recommended task size is 1000 KiB.\n",
      "22/01/28 20:37:39 WARN TaskSetManager: Stage 152 contains a task of very large size (1441 KiB). The maximum recommended task size is 1000 KiB.\n",
      "22/01/28 20:37:39 WARN TaskSetManager: Stage 154 contains a task of very large size (1441 KiB). The maximum recommended task size is 1000 KiB.\n",
      "22/01/28 20:37:39 WARN TaskSetManager: Stage 156 contains a task of very large size (1441 KiB). The maximum recommended task size is 1000 KiB.\n",
      "22/01/28 20:37:39 WARN TaskSetManager: Stage 158 contains a task of very large size (1441 KiB). The maximum recommended task size is 1000 KiB.\n",
      "22/01/28 20:37:39 WARN TaskSetManager: Stage 160 contains a task of very large size (1441 KiB). The maximum recommended task size is 1000 KiB.\n",
      "22/01/28 20:37:39 WARN TaskSetManager: Stage 162 contains a task of very large size (1441 KiB). The maximum recommended task size is 1000 KiB.\n",
      "22/01/28 20:37:39 WARN TaskSetManager: Stage 164 contains a task of very large size (1441 KiB). The maximum recommended task size is 1000 KiB.\n",
      "22/01/28 20:37:39 WARN TaskSetManager: Stage 166 contains a task of very large size (1441 KiB). The maximum recommended task size is 1000 KiB.\n",
      "22/01/28 20:37:40 WARN TaskSetManager: Stage 168 contains a task of very large size (1441 KiB). The maximum recommended task size is 1000 KiB.\n",
      "22/01/28 20:37:40 WARN TaskSetManager: Stage 170 contains a task of very large size (1441 KiB). The maximum recommended task size is 1000 KiB.\n",
      "22/01/28 20:37:40 WARN TaskSetManager: Stage 172 contains a task of very large size (1441 KiB). The maximum recommended task size is 1000 KiB.\n",
      "22/01/28 20:37:40 WARN TaskSetManager: Stage 174 contains a task of very large size (1441 KiB). The maximum recommended task size is 1000 KiB.\n",
      "22/01/28 20:37:40 WARN TaskSetManager: Stage 176 contains a task of very large size (1441 KiB). The maximum recommended task size is 1000 KiB.\n",
      "22/01/28 20:37:40 WARN TaskSetManager: Stage 178 contains a task of very large size (1441 KiB). The maximum recommended task size is 1000 KiB.\n",
      "22/01/28 20:37:40 WARN TaskSetManager: Stage 180 contains a task of very large size (1441 KiB). The maximum recommended task size is 1000 KiB.\n",
      "22/01/28 20:37:40 WARN TaskSetManager: Stage 182 contains a task of very large size (1441 KiB). The maximum recommended task size is 1000 KiB.\n",
      "22/01/28 20:37:40 WARN TaskSetManager: Stage 184 contains a task of very large size (1441 KiB). The maximum recommended task size is 1000 KiB.\n",
      "22/01/28 20:37:40 WARN TaskSetManager: Stage 186 contains a task of very large size (1441 KiB). The maximum recommended task size is 1000 KiB.\n",
      "22/01/28 20:37:40 WARN TaskSetManager: Stage 188 contains a task of very large size (1441 KiB). The maximum recommended task size is 1000 KiB.\n",
      "22/01/28 20:37:40 WARN TaskSetManager: Stage 190 contains a task of very large size (1441 KiB). The maximum recommended task size is 1000 KiB.\n",
      "22/01/28 20:37:40 WARN TaskSetManager: Stage 192 contains a task of very large size (1441 KiB). The maximum recommended task size is 1000 KiB.\n",
      "22/01/28 20:37:40 WARN TaskSetManager: Stage 194 contains a task of very large size (1441 KiB). The maximum recommended task size is 1000 KiB.\n",
      "22/01/28 20:37:41 WARN TaskSetManager: Stage 197 contains a task of very large size (1441 KiB). The maximum recommended task size is 1000 KiB.\n",
      "22/01/28 20:37:41 WARN TaskSetManager: Stage 199 contains a task of very large size (1441 KiB). The maximum recommended task size is 1000 KiB.\n"
     ]
    },
    {
     "name": "stdout",
     "output_type": "stream",
     "text": [
      "score = 0.5014049331510557\n",
      "\n",
      "==========K = 6=============\n",
      "\n"
     ]
    },
    {
     "name": "stderr",
     "output_type": "stream",
     "text": [
      "22/01/28 20:37:42 WARN TaskSetManager: Stage 202 contains a task of very large size (1441 KiB). The maximum recommended task size is 1000 KiB.\n",
      "22/01/28 20:37:43 WARN TaskSetManager: Stage 203 contains a task of very large size (1441 KiB). The maximum recommended task size is 1000 KiB.\n",
      "22/01/28 20:37:43 WARN TaskSetManager: Stage 204 contains a task of very large size (1441 KiB). The maximum recommended task size is 1000 KiB.\n",
      "22/01/28 20:37:43 WARN TaskSetManager: Stage 205 contains a task of very large size (1441 KiB). The maximum recommended task size is 1000 KiB.\n",
      "22/01/28 20:37:43 WARN TaskSetManager: Stage 206 contains a task of very large size (1441 KiB). The maximum recommended task size is 1000 KiB.\n",
      "22/01/28 20:37:43 WARN TaskSetManager: Stage 207 contains a task of very large size (1441 KiB). The maximum recommended task size is 1000 KiB.\n",
      "22/01/28 20:37:43 WARN TaskSetManager: Stage 208 contains a task of very large size (1441 KiB). The maximum recommended task size is 1000 KiB.\n",
      "22/01/28 20:37:43 WARN TaskSetManager: Stage 210 contains a task of very large size (1441 KiB). The maximum recommended task size is 1000 KiB.\n",
      "22/01/28 20:37:43 WARN TaskSetManager: Stage 212 contains a task of very large size (1441 KiB). The maximum recommended task size is 1000 KiB.\n",
      "22/01/28 20:37:43 WARN TaskSetManager: Stage 214 contains a task of very large size (1441 KiB). The maximum recommended task size is 1000 KiB.\n",
      "22/01/28 20:37:43 WARN TaskSetManager: Stage 216 contains a task of very large size (1441 KiB). The maximum recommended task size is 1000 KiB.\n",
      "22/01/28 20:37:43 WARN TaskSetManager: Stage 218 contains a task of very large size (1441 KiB). The maximum recommended task size is 1000 KiB.\n",
      "22/01/28 20:37:43 WARN TaskSetManager: Stage 220 contains a task of very large size (1441 KiB). The maximum recommended task size is 1000 KiB.\n",
      "22/01/28 20:37:43 WARN TaskSetManager: Stage 222 contains a task of very large size (1441 KiB). The maximum recommended task size is 1000 KiB.\n",
      "22/01/28 20:37:43 WARN TaskSetManager: Stage 224 contains a task of very large size (1441 KiB). The maximum recommended task size is 1000 KiB.\n",
      "22/01/28 20:37:43 WARN TaskSetManager: Stage 226 contains a task of very large size (1441 KiB). The maximum recommended task size is 1000 KiB.\n",
      "22/01/28 20:37:43 WARN TaskSetManager: Stage 228 contains a task of very large size (1441 KiB). The maximum recommended task size is 1000 KiB.\n",
      "22/01/28 20:37:43 WARN TaskSetManager: Stage 230 contains a task of very large size (1441 KiB). The maximum recommended task size is 1000 KiB.\n",
      "22/01/28 20:37:43 WARN TaskSetManager: Stage 232 contains a task of very large size (1441 KiB). The maximum recommended task size is 1000 KiB.\n",
      "22/01/28 20:37:44 WARN TaskSetManager: Stage 234 contains a task of very large size (1441 KiB). The maximum recommended task size is 1000 KiB.\n",
      "22/01/28 20:37:44 WARN TaskSetManager: Stage 236 contains a task of very large size (1441 KiB). The maximum recommended task size is 1000 KiB.\n",
      "22/01/28 20:37:44 WARN TaskSetManager: Stage 238 contains a task of very large size (1441 KiB). The maximum recommended task size is 1000 KiB.\n",
      "22/01/28 20:37:44 WARN TaskSetManager: Stage 240 contains a task of very large size (1441 KiB). The maximum recommended task size is 1000 KiB.\n",
      "22/01/28 20:37:44 WARN TaskSetManager: Stage 242 contains a task of very large size (1441 KiB). The maximum recommended task size is 1000 KiB.\n",
      "22/01/28 20:37:44 WARN TaskSetManager: Stage 244 contains a task of very large size (1441 KiB). The maximum recommended task size is 1000 KiB.\n",
      "22/01/28 20:37:44 WARN TaskSetManager: Stage 246 contains a task of very large size (1441 KiB). The maximum recommended task size is 1000 KiB.\n",
      "22/01/28 20:37:44 WARN TaskSetManager: Stage 248 contains a task of very large size (1441 KiB). The maximum recommended task size is 1000 KiB.\n",
      "22/01/28 20:37:44 WARN TaskSetManager: Stage 250 contains a task of very large size (1441 KiB). The maximum recommended task size is 1000 KiB.\n",
      "22/01/28 20:37:45 WARN TaskSetManager: Stage 253 contains a task of very large size (1441 KiB). The maximum recommended task size is 1000 KiB.\n",
      "22/01/28 20:37:45 WARN TaskSetManager: Stage 255 contains a task of very large size (1441 KiB). The maximum recommended task size is 1000 KiB.\n"
     ]
    },
    {
     "name": "stdout",
     "output_type": "stream",
     "text": [
      "score = 0.4383148217887277\n",
      "\n",
      "==========K = 7=============\n",
      "\n"
     ]
    },
    {
     "name": "stderr",
     "output_type": "stream",
     "text": [
      "22/01/28 20:37:46 WARN TaskSetManager: Stage 258 contains a task of very large size (1441 KiB). The maximum recommended task size is 1000 KiB.\n",
      "22/01/28 20:37:46 WARN TaskSetManager: Stage 259 contains a task of very large size (1441 KiB). The maximum recommended task size is 1000 KiB.\n",
      "22/01/28 20:37:46 WARN TaskSetManager: Stage 260 contains a task of very large size (1441 KiB). The maximum recommended task size is 1000 KiB.\n",
      "22/01/28 20:37:46 WARN TaskSetManager: Stage 261 contains a task of very large size (1441 KiB). The maximum recommended task size is 1000 KiB.\n",
      "22/01/28 20:37:46 WARN TaskSetManager: Stage 262 contains a task of very large size (1441 KiB). The maximum recommended task size is 1000 KiB.\n",
      "22/01/28 20:37:46 WARN TaskSetManager: Stage 263 contains a task of very large size (1441 KiB). The maximum recommended task size is 1000 KiB.\n",
      "22/01/28 20:37:46 WARN TaskSetManager: Stage 264 contains a task of very large size (1441 KiB). The maximum recommended task size is 1000 KiB.\n",
      "22/01/28 20:37:46 WARN TaskSetManager: Stage 266 contains a task of very large size (1441 KiB). The maximum recommended task size is 1000 KiB.\n",
      "22/01/28 20:37:46 WARN TaskSetManager: Stage 268 contains a task of very large size (1441 KiB). The maximum recommended task size is 1000 KiB.\n",
      "22/01/28 20:37:46 WARN TaskSetManager: Stage 270 contains a task of very large size (1441 KiB). The maximum recommended task size is 1000 KiB.\n",
      "22/01/28 20:37:47 WARN TaskSetManager: Stage 272 contains a task of very large size (1441 KiB). The maximum recommended task size is 1000 KiB.\n",
      "22/01/28 20:37:47 WARN TaskSetManager: Stage 274 contains a task of very large size (1441 KiB). The maximum recommended task size is 1000 KiB.\n",
      "22/01/28 20:37:47 WARN TaskSetManager: Stage 276 contains a task of very large size (1441 KiB). The maximum recommended task size is 1000 KiB.\n",
      "22/01/28 20:37:47 WARN TaskSetManager: Stage 278 contains a task of very large size (1441 KiB). The maximum recommended task size is 1000 KiB.\n",
      "22/01/28 20:37:47 WARN TaskSetManager: Stage 280 contains a task of very large size (1441 KiB). The maximum recommended task size is 1000 KiB.\n",
      "22/01/28 20:37:47 WARN TaskSetManager: Stage 282 contains a task of very large size (1441 KiB). The maximum recommended task size is 1000 KiB.\n",
      "22/01/28 20:37:47 WARN TaskSetManager: Stage 284 contains a task of very large size (1441 KiB). The maximum recommended task size is 1000 KiB.\n",
      "22/01/28 20:37:47 WARN TaskSetManager: Stage 286 contains a task of very large size (1441 KiB). The maximum recommended task size is 1000 KiB.\n",
      "22/01/28 20:37:47 WARN TaskSetManager: Stage 288 contains a task of very large size (1441 KiB). The maximum recommended task size is 1000 KiB.\n",
      "22/01/28 20:37:47 WARN TaskSetManager: Stage 290 contains a task of very large size (1441 KiB). The maximum recommended task size is 1000 KiB.\n",
      "22/01/28 20:37:47 WARN TaskSetManager: Stage 292 contains a task of very large size (1441 KiB). The maximum recommended task size is 1000 KiB.\n",
      "22/01/28 20:37:47 WARN TaskSetManager: Stage 294 contains a task of very large size (1441 KiB). The maximum recommended task size is 1000 KiB.\n",
      "22/01/28 20:37:47 WARN TaskSetManager: Stage 296 contains a task of very large size (1441 KiB). The maximum recommended task size is 1000 KiB.\n",
      "22/01/28 20:37:47 WARN TaskSetManager: Stage 298 contains a task of very large size (1441 KiB). The maximum recommended task size is 1000 KiB.\n",
      "22/01/28 20:37:47 WARN TaskSetManager: Stage 300 contains a task of very large size (1441 KiB). The maximum recommended task size is 1000 KiB.\n",
      "22/01/28 20:37:47 WARN TaskSetManager: Stage 302 contains a task of very large size (1441 KiB). The maximum recommended task size is 1000 KiB.\n",
      "22/01/28 20:37:47 WARN TaskSetManager: Stage 304 contains a task of very large size (1441 KiB). The maximum recommended task size is 1000 KiB.\n",
      "22/01/28 20:37:47 WARN TaskSetManager: Stage 306 contains a task of very large size (1441 KiB). The maximum recommended task size is 1000 KiB.\n",
      "22/01/28 20:37:48 WARN TaskSetManager: Stage 309 contains a task of very large size (1441 KiB). The maximum recommended task size is 1000 KiB.\n",
      "22/01/28 20:37:48 WARN TaskSetManager: Stage 311 contains a task of very large size (1441 KiB). The maximum recommended task size is 1000 KiB.\n"
     ]
    },
    {
     "name": "stdout",
     "output_type": "stream",
     "text": [
      "score = 0.45248246547375737\n",
      "\n",
      "==========K = 8=============\n",
      "\n"
     ]
    },
    {
     "name": "stderr",
     "output_type": "stream",
     "text": [
      "22/01/28 20:37:49 WARN TaskSetManager: Stage 314 contains a task of very large size (1441 KiB). The maximum recommended task size is 1000 KiB.\n",
      "22/01/28 20:37:49 WARN TaskSetManager: Stage 315 contains a task of very large size (1441 KiB). The maximum recommended task size is 1000 KiB.\n",
      "22/01/28 20:37:49 WARN TaskSetManager: Stage 316 contains a task of very large size (1441 KiB). The maximum recommended task size is 1000 KiB.\n",
      "22/01/28 20:37:49 WARN TaskSetManager: Stage 317 contains a task of very large size (1441 KiB). The maximum recommended task size is 1000 KiB.\n",
      "22/01/28 20:37:49 WARN TaskSetManager: Stage 318 contains a task of very large size (1441 KiB). The maximum recommended task size is 1000 KiB.\n",
      "22/01/28 20:37:49 WARN TaskSetManager: Stage 319 contains a task of very large size (1441 KiB). The maximum recommended task size is 1000 KiB.\n",
      "22/01/28 20:37:49 WARN TaskSetManager: Stage 320 contains a task of very large size (1441 KiB). The maximum recommended task size is 1000 KiB.\n",
      "22/01/28 20:37:49 WARN TaskSetManager: Stage 322 contains a task of very large size (1441 KiB). The maximum recommended task size is 1000 KiB.\n",
      "22/01/28 20:37:49 WARN TaskSetManager: Stage 324 contains a task of very large size (1441 KiB). The maximum recommended task size is 1000 KiB.\n",
      "22/01/28 20:37:49 WARN TaskSetManager: Stage 326 contains a task of very large size (1441 KiB). The maximum recommended task size is 1000 KiB.\n",
      "22/01/28 20:37:49 WARN TaskSetManager: Stage 328 contains a task of very large size (1441 KiB). The maximum recommended task size is 1000 KiB.\n",
      "22/01/28 20:37:50 WARN TaskSetManager: Stage 330 contains a task of very large size (1441 KiB). The maximum recommended task size is 1000 KiB.\n",
      "22/01/28 20:37:50 WARN TaskSetManager: Stage 332 contains a task of very large size (1441 KiB). The maximum recommended task size is 1000 KiB.\n",
      "22/01/28 20:37:50 WARN TaskSetManager: Stage 334 contains a task of very large size (1441 KiB). The maximum recommended task size is 1000 KiB.\n",
      "22/01/28 20:37:50 WARN TaskSetManager: Stage 336 contains a task of very large size (1441 KiB). The maximum recommended task size is 1000 KiB.\n",
      "22/01/28 20:37:50 WARN TaskSetManager: Stage 338 contains a task of very large size (1441 KiB). The maximum recommended task size is 1000 KiB.\n",
      "22/01/28 20:37:50 WARN TaskSetManager: Stage 340 contains a task of very large size (1441 KiB). The maximum recommended task size is 1000 KiB.\n",
      "22/01/28 20:37:50 WARN TaskSetManager: Stage 342 contains a task of very large size (1441 KiB). The maximum recommended task size is 1000 KiB.\n",
      "22/01/28 20:37:50 WARN TaskSetManager: Stage 344 contains a task of very large size (1441 KiB). The maximum recommended task size is 1000 KiB.\n",
      "22/01/28 20:37:50 WARN TaskSetManager: Stage 346 contains a task of very large size (1441 KiB). The maximum recommended task size is 1000 KiB.\n",
      "22/01/28 20:37:50 WARN TaskSetManager: Stage 348 contains a task of very large size (1441 KiB). The maximum recommended task size is 1000 KiB.\n",
      "22/01/28 20:37:50 WARN TaskSetManager: Stage 350 contains a task of very large size (1441 KiB). The maximum recommended task size is 1000 KiB.\n",
      "22/01/28 20:37:50 WARN TaskSetManager: Stage 352 contains a task of very large size (1441 KiB). The maximum recommended task size is 1000 KiB.\n",
      "22/01/28 20:37:50 WARN TaskSetManager: Stage 354 contains a task of very large size (1441 KiB). The maximum recommended task size is 1000 KiB.\n",
      "22/01/28 20:37:50 WARN TaskSetManager: Stage 356 contains a task of very large size (1441 KiB). The maximum recommended task size is 1000 KiB.\n",
      "22/01/28 20:37:51 WARN TaskSetManager: Stage 359 contains a task of very large size (1441 KiB). The maximum recommended task size is 1000 KiB.\n",
      "22/01/28 20:37:51 WARN TaskSetManager: Stage 361 contains a task of very large size (1441 KiB). The maximum recommended task size is 1000 KiB.\n"
     ]
    },
    {
     "name": "stdout",
     "output_type": "stream",
     "text": [
      "score = 0.463012603953447\n",
      "\n",
      "==========K = 9=============\n",
      "\n"
     ]
    },
    {
     "name": "stderr",
     "output_type": "stream",
     "text": [
      "22/01/28 20:37:51 WARN TaskSetManager: Stage 364 contains a task of very large size (1441 KiB). The maximum recommended task size is 1000 KiB.\n",
      "22/01/28 20:37:52 WARN TaskSetManager: Stage 365 contains a task of very large size (1441 KiB). The maximum recommended task size is 1000 KiB.\n",
      "22/01/28 20:37:52 WARN TaskSetManager: Stage 366 contains a task of very large size (1441 KiB). The maximum recommended task size is 1000 KiB.\n",
      "22/01/28 20:37:52 WARN TaskSetManager: Stage 367 contains a task of very large size (1441 KiB). The maximum recommended task size is 1000 KiB.\n",
      "22/01/28 20:37:52 WARN TaskSetManager: Stage 368 contains a task of very large size (1441 KiB). The maximum recommended task size is 1000 KiB.\n",
      "22/01/28 20:37:52 WARN TaskSetManager: Stage 369 contains a task of very large size (1441 KiB). The maximum recommended task size is 1000 KiB.\n",
      "22/01/28 20:37:52 WARN TaskSetManager: Stage 370 contains a task of very large size (1441 KiB). The maximum recommended task size is 1000 KiB.\n",
      "22/01/28 20:37:52 WARN TaskSetManager: Stage 372 contains a task of very large size (1441 KiB). The maximum recommended task size is 1000 KiB.\n",
      "22/01/28 20:37:52 WARN TaskSetManager: Stage 374 contains a task of very large size (1441 KiB). The maximum recommended task size is 1000 KiB.\n",
      "22/01/28 20:37:52 WARN TaskSetManager: Stage 376 contains a task of very large size (1441 KiB). The maximum recommended task size is 1000 KiB.\n",
      "22/01/28 20:37:52 WARN TaskSetManager: Stage 378 contains a task of very large size (1441 KiB). The maximum recommended task size is 1000 KiB.\n",
      "22/01/28 20:37:52 WARN TaskSetManager: Stage 380 contains a task of very large size (1441 KiB). The maximum recommended task size is 1000 KiB.\n",
      "22/01/28 20:37:53 WARN TaskSetManager: Stage 382 contains a task of very large size (1441 KiB). The maximum recommended task size is 1000 KiB.\n",
      "22/01/28 20:37:53 WARN TaskSetManager: Stage 384 contains a task of very large size (1441 KiB). The maximum recommended task size is 1000 KiB.\n",
      "22/01/28 20:37:53 WARN TaskSetManager: Stage 386 contains a task of very large size (1441 KiB). The maximum recommended task size is 1000 KiB.\n",
      "22/01/28 20:37:53 WARN TaskSetManager: Stage 388 contains a task of very large size (1441 KiB). The maximum recommended task size is 1000 KiB.\n",
      "22/01/28 20:37:53 WARN TaskSetManager: Stage 390 contains a task of very large size (1441 KiB). The maximum recommended task size is 1000 KiB.\n",
      "22/01/28 20:37:53 WARN TaskSetManager: Stage 392 contains a task of very large size (1441 KiB). The maximum recommended task size is 1000 KiB.\n",
      "22/01/28 20:37:53 WARN TaskSetManager: Stage 394 contains a task of very large size (1441 KiB). The maximum recommended task size is 1000 KiB.\n",
      "22/01/28 20:37:53 WARN TaskSetManager: Stage 396 contains a task of very large size (1441 KiB). The maximum recommended task size is 1000 KiB.\n",
      "22/01/28 20:37:53 WARN TaskSetManager: Stage 398 contains a task of very large size (1441 KiB). The maximum recommended task size is 1000 KiB.\n",
      "22/01/28 20:37:53 WARN TaskSetManager: Stage 400 contains a task of very large size (1441 KiB). The maximum recommended task size is 1000 KiB.\n",
      "22/01/28 20:37:53 WARN TaskSetManager: Stage 402 contains a task of very large size (1441 KiB). The maximum recommended task size is 1000 KiB.\n",
      "22/01/28 20:37:53 WARN TaskSetManager: Stage 404 contains a task of very large size (1441 KiB). The maximum recommended task size is 1000 KiB.\n",
      "22/01/28 20:37:53 WARN TaskSetManager: Stage 406 contains a task of very large size (1441 KiB). The maximum recommended task size is 1000 KiB.\n",
      "22/01/28 20:37:53 WARN TaskSetManager: Stage 408 contains a task of very large size (1441 KiB). The maximum recommended task size is 1000 KiB.\n",
      "22/01/28 20:37:53 WARN TaskSetManager: Stage 410 contains a task of very large size (1441 KiB). The maximum recommended task size is 1000 KiB.\n",
      "22/01/28 20:37:54 WARN TaskSetManager: Stage 412 contains a task of very large size (1441 KiB). The maximum recommended task size is 1000 KiB.\n",
      "22/01/28 20:37:54 WARN TaskSetManager: Stage 415 contains a task of very large size (1441 KiB). The maximum recommended task size is 1000 KiB.\n",
      "22/01/28 20:37:54 WARN TaskSetManager: Stage 417 contains a task of very large size (1441 KiB). The maximum recommended task size is 1000 KiB.\n"
     ]
    },
    {
     "name": "stdout",
     "output_type": "stream",
     "text": [
      "score = 0.18946247259197238\n"
     ]
    }
   ],
   "source": [
    "from pyspark.ml.clustering import KMeans\n",
    "from pyspark.ml.evaluation import ClusteringEvaluator\n",
    "\n",
    "# giá trị thực nghiệm của K\n",
    "K = range(2,10)\n",
    "k_score = []\n",
    "\n",
    "# Kmean model\n",
    "for k in K:\n",
    "    print('\\n==========K = ' + str(k) + '=============\\n')\n",
    "    # load và train mô hình\n",
    "    kmeans = KMeans().setK(k).setSeed(1) # .setK( arg = k : số phân cụm), .setSeed(1): cho cùng một giá trị bắt đầu trong mỗi lần gọi random\n",
    "\n",
    "    model = kmeans.fit(data)\n",
    "    \n",
    "    # huấn luyên model trên tập dữ liệu train\n",
    "    output = model.transform(data)\n",
    "\n",
    "    \n",
    "    # Đánh giá mô hình:\n",
    "    # Đánh giá khả năng phân nhóm - clustering score bằng clusteringEvaluator\n",
    "    eval = ClusteringEvaluator()\n",
    "    score = eval.evaluate(output)\n",
    "    k_score.append(score)\n",
    "    print(\"score = \" + str(score))\n",
    "\n",
    "    # center = []\n",
    "    # for c in model.clusterCenters():\n",
    "    #     center.append(c)\n",
    "\n",
    "    # print('\\nCluster Center: \\n', center)"
   ]
  },
  {
   "cell_type": "markdown",
   "metadata": {
    "id": "JTi9Z8y5dwhQ"
   },
   "source": [
    "##### Kết quả thử nghiệm với K = [  2, 3, 4, ...9 ]"
   ]
  },
  {
   "cell_type": "code",
   "execution_count": 16,
   "metadata": {
    "colab": {
     "base_uri": "https://localhost:8080/"
    },
    "id": "FlKzxKR-d8-D",
    "outputId": "a5a5c7a8-6fcf-4667-ee95-bca3dd8f6df3"
   },
   "outputs": [
    {
     "data": {
      "text/plain": [
       "[0.7163664052872065,\n",
       " 0.5783454170344543,\n",
       " 0.5225292282481627,\n",
       " 0.5014049331510557,\n",
       " 0.4383148217887277,\n",
       " 0.45248246547375737,\n",
       " 0.463012603953447,\n",
       " 0.18946247259197238]"
      ]
     },
     "execution_count": 16,
     "metadata": {},
     "output_type": "execute_result"
    }
   ],
   "source": [
    "k_score"
   ]
  }
 ],
 "metadata": {
  "accelerator": "TPU",
  "colab": {
   "collapsed_sections": [],
   "name": "Copy of Untitled0.ipynb",
   "provenance": []
  },
  "kernelspec": {
   "display_name": "Python 3 (ipykernel)",
   "language": "python",
   "name": "python3"
  },
  "language_info": {
   "codemirror_mode": {
    "name": "ipython",
    "version": 3
   },
   "file_extension": ".py",
   "mimetype": "text/x-python",
   "name": "python",
   "nbconvert_exporter": "python",
   "pygments_lexer": "ipython3",
   "version": "3.8.10"
  }
 },
 "nbformat": 4,
 "nbformat_minor": 1
}
