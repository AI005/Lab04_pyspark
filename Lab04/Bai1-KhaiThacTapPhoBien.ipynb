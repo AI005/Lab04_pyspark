{
 "cells": [
  {
   "cell_type": "code",
   "execution_count": 1,
   "id": "4778eef2",
   "metadata": {},
   "outputs": [],
   "source": [
    "from pyspark.sql import SparkSession\n",
    "from pyspark.sql import functions as F"
   ]
  },
  {
   "cell_type": "code",
   "execution_count": 2,
   "id": "1624aa11",
   "metadata": {},
   "outputs": [
    {
     "name": "stderr",
     "output_type": "stream",
     "text": [
      "22/01/21 17:04:47 WARN Utils: Your hostname, sheepb-HP-Pavilion-Notebook resolves to a loopback address: 127.0.1.1; using 192.168.1.9 instead (on interface wlo1)\n",
      "22/01/21 17:04:47 WARN Utils: Set SPARK_LOCAL_IP if you need to bind to another address\n",
      "WARNING: An illegal reflective access operation has occurred\n",
      "WARNING: Illegal reflective access by org.apache.spark.unsafe.Platform (file:/home/sheepb/code/jupyter_dir/jupyter_env/lib/python3.8/site-packages/pyspark/jars/spark-unsafe_2.12-3.2.0.jar) to constructor java.nio.DirectByteBuffer(long,int)\n",
      "WARNING: Please consider reporting this to the maintainers of org.apache.spark.unsafe.Platform\n",
      "WARNING: Use --illegal-access=warn to enable warnings of further illegal reflective access operations\n",
      "WARNING: All illegal access operations will be denied in a future release\n",
      "Using Spark's default log4j profile: org/apache/spark/log4j-defaults.properties\n",
      "Setting default log level to \"WARN\".\n",
      "To adjust logging level use sc.setLogLevel(newLevel). For SparkR, use setLogLevel(newLevel).\n",
      "22/01/21 17:04:58 WARN NativeCodeLoader: Unable to load native-hadoop library for your platform... using builtin-java classes where applicable\n",
      "22/01/21 17:04:59 WARN Utils: Service 'SparkUI' could not bind on port 4040. Attempting port 4041.\n"
     ]
    }
   ],
   "source": [
    "spark = SparkSession.builder.appName('lab04').getOrCreate()"
   ]
  },
  {
   "cell_type": "markdown",
   "id": "43fc0024",
   "metadata": {},
   "source": [
    "## a. Đọc và xử lí dữ liệu"
   ]
  },
  {
   "cell_type": "code",
   "execution_count": 3,
   "id": "901584a8",
   "metadata": {},
   "outputs": [
    {
     "name": "stderr",
     "output_type": "stream",
     "text": [
      "                                                                                \r"
     ]
    }
   ],
   "source": [
    "data_path = './Lab04-Data/'\n",
    "order_csv = spark.read.csv(data_path + 'orders.csv', inferSchema=True, header=True, sep=',')\n",
    "product_csv = spark.read.csv(data_path + 'products.csv', inferSchema=True, header=True, sep=',')"
   ]
  },
  {
   "cell_type": "code",
   "execution_count": 4,
   "id": "95c6bca2",
   "metadata": {},
   "outputs": [
    {
     "name": "stdout",
     "output_type": "stream",
     "text": [
      "+--------+----------+-----------------+---------+\n",
      "|order_id|product_id|add_to_cart_order|reordered|\n",
      "+--------+----------+-----------------+---------+\n",
      "|       1|     49302|                1|        1|\n",
      "|       1|     11109|                2|        1|\n",
      "|       1|     10246|                3|        0|\n",
      "|       1|     49683|                4|        0|\n",
      "|       1|     43633|                5|        1|\n",
      "|       1|     13176|                6|        0|\n",
      "|       1|     47209|                7|        0|\n",
      "|       1|     22035|                8|        1|\n",
      "|      36|     39612|                1|        0|\n",
      "|      36|     19660|                2|        1|\n",
      "|      36|     49235|                3|        0|\n",
      "|      36|     43086|                4|        1|\n",
      "|      36|     46620|                5|        1|\n",
      "|      36|     34497|                6|        1|\n",
      "|      36|     48679|                7|        1|\n",
      "|      36|     46979|                8|        1|\n",
      "|      38|     11913|                1|        0|\n",
      "|      38|     18159|                2|        0|\n",
      "|      38|      4461|                3|        0|\n",
      "|      38|     21616|                4|        1|\n",
      "+--------+----------+-----------------+---------+\n",
      "only showing top 20 rows\n",
      "\n"
     ]
    }
   ],
   "source": [
    "order_csv.show()"
   ]
  },
  {
   "cell_type": "code",
   "execution_count": 5,
   "id": "fe32aff3",
   "metadata": {},
   "outputs": [
    {
     "name": "stdout",
     "output_type": "stream",
     "text": [
      "+----------+--------------------+--------+-------------+\n",
      "|product_id|        product_name|aisle_id|department_id|\n",
      "+----------+--------------------+--------+-------------+\n",
      "|         1|Chocolate Sandwic...|      61|           19|\n",
      "|         2|    All-Seasons Salt|     104|           13|\n",
      "|         3|Robust Golden Uns...|      94|            7|\n",
      "|         4|Smart Ones Classi...|      38|            1|\n",
      "|         5|Green Chile Anyti...|       5|           13|\n",
      "|         6|        Dry Nose Oil|      11|           11|\n",
      "|         7|Pure Coconut Wate...|      98|            7|\n",
      "|         8|Cut Russet Potato...|     116|            1|\n",
      "|         9|Light Strawberry ...|     120|           16|\n",
      "|        10|Sparkling Orange ...|     115|            7|\n",
      "|        11|   Peach Mango Juice|      31|            7|\n",
      "|        12|Chocolate Fudge L...|     119|            1|\n",
      "|        13|   Saline Nasal Mist|      11|           11|\n",
      "|        14|Fresh Scent Dishw...|      74|           17|\n",
      "|        15|Overnight Diapers...|      56|           18|\n",
      "|        16|Mint Chocolate Fl...|     103|           19|\n",
      "|        17|   Rendered Duck Fat|      35|           12|\n",
      "|        18|Pizza for One Sup...|      79|            1|\n",
      "|        19|Gluten Free Quino...|      63|            9|\n",
      "|        20|Pomegranate Cranb...|      98|            7|\n",
      "+----------+--------------------+--------+-------------+\n",
      "only showing top 20 rows\n",
      "\n"
     ]
    }
   ],
   "source": [
    "product_csv.show()"
   ]
  },
  {
   "cell_type": "markdown",
   "id": "ad5114fd",
   "metadata": {},
   "source": [
    "- merge 2 bảng lại như yêu cầu đề bài"
   ]
  },
  {
   "cell_type": "code",
   "execution_count": 6,
   "id": "20f4041d",
   "metadata": {},
   "outputs": [
    {
     "name": "stderr",
     "output_type": "stream",
     "text": [
      "[Stage 7:==============>                                            (1 + 3) / 4]\r"
     ]
    },
    {
     "name": "stdout",
     "output_type": "stream",
     "text": [
      "+--------+--------------------------+\n",
      "|order_id|collect_list(product_name)|\n",
      "+--------+--------------------------+\n",
      "|       1|      [Bulgarian Yogurt...|\n",
      "|     218|      [Natural Artisan ...|\n",
      "|     473|      [Organic Whole Mi...|\n",
      "|     631|      [Organic Strawber...|\n",
      "|     762|      [Organic Strawber...|\n",
      "|     774|      [Ice Cream Variet...|\n",
      "|     844|      [Green Beans, Org...|\n",
      "|     988|      [Natural Vanilla ...|\n",
      "|    1077|      [Bag of Organic B...|\n",
      "|    1139|      [Banana, Organic ...|\n",
      "|    1143|      [Natural Premium ...|\n",
      "|    1145|      [Banana, Original...|\n",
      "|    1280|      [Lactose Free Hal...|\n",
      "|    1342|      [Bag of Organic B...|\n",
      "|    1350|      [Ground Cinnamon,...|\n",
      "|    1468|      [Banana, Organic ...|\n",
      "|    1591|      [Cracked Wheat, O...|\n",
      "|    1682|      [Bathroom Tissue,...|\n",
      "|    1721|      [Organic Reduced ...|\n",
      "|    1890|      [Vanilla Almond B...|\n",
      "+--------+--------------------------+\n",
      "only showing top 20 rows\n",
      "\n"
     ]
    },
    {
     "name": "stderr",
     "output_type": "stream",
     "text": [
      "\r",
      "                                                                                \r"
     ]
    }
   ],
   "source": [
    "merge_df =  order_csv.join(product_csv, \n",
    "                             order_csv.product_id == product_csv.product_id)\\\n",
    "                        .groupby('order_id')\\\n",
    "                        .agg(F.collect_list('product_name'))\n",
    "merge_df.show()"
   ]
  },
  {
   "cell_type": "markdown",
   "id": "5fa54cff",
   "metadata": {},
   "source": [
    "- thay đổi lại tên cột theo yêu cầu"
   ]
  },
  {
   "cell_type": "code",
   "execution_count": 7,
   "id": "2c635886",
   "metadata": {},
   "outputs": [
    {
     "name": "stderr",
     "output_type": "stream",
     "text": [
      "[Stage 11:===========================================>              (3 + 1) / 4]\r"
     ]
    },
    {
     "name": "stdout",
     "output_type": "stream",
     "text": [
      "+----+--------------------+\n",
      "|  id|            products|\n",
      "+----+--------------------+\n",
      "|   1|[Bulgarian Yogurt...|\n",
      "| 218|[Natural Artisan ...|\n",
      "| 473|[Organic Whole Mi...|\n",
      "| 631|[Organic Strawber...|\n",
      "| 762|[Organic Strawber...|\n",
      "| 774|[Ice Cream Variet...|\n",
      "| 844|[Green Beans, Org...|\n",
      "| 988|[Natural Vanilla ...|\n",
      "|1077|[Bag of Organic B...|\n",
      "|1139|[Banana, Organic ...|\n",
      "|1143|[Natural Premium ...|\n",
      "|1145|[Banana, Original...|\n",
      "|1280|[Lactose Free Hal...|\n",
      "|1342|[Bag of Organic B...|\n",
      "|1350|[Ground Cinnamon,...|\n",
      "|1468|[Banana, Organic ...|\n",
      "|1591|[Cracked Wheat, O...|\n",
      "|1682|[Bathroom Tissue,...|\n",
      "|1721|[Organic Reduced ...|\n",
      "|1890|[Vanilla Almond B...|\n",
      "+----+--------------------+\n",
      "only showing top 20 rows\n",
      "\n"
     ]
    },
    {
     "name": "stderr",
     "output_type": "stream",
     "text": [
      "\r",
      "                                                                                \r"
     ]
    }
   ],
   "source": [
    "df = merge_df.withColumnRenamed(\"order_id\", \"id\")\\\n",
    "       .withColumnRenamed(\"collect_list(product_name)\", \"products\")\n",
    "df.show()"
   ]
  },
  {
   "cell_type": "markdown",
   "id": "ab89d8f7",
   "metadata": {},
   "source": [
    "## b. Khai thác tập phổ biến"
   ]
  },
  {
   "cell_type": "code",
   "execution_count": 8,
   "id": "72ebd5fc",
   "metadata": {},
   "outputs": [
    {
     "name": "stdout",
     "output_type": "stream",
     "text": [
      "root\n",
      " |-- id: integer (nullable = true)\n",
      " |-- products: array (nullable = false)\n",
      " |    |-- element: string (containsNull = false)\n",
      "\n"
     ]
    }
   ],
   "source": [
    "df.printSchema()"
   ]
  },
  {
   "cell_type": "markdown",
   "id": "9d510832",
   "metadata": {},
   "source": [
    "- Trước tiên ta thử với minSupport=0.8, minConfidence=0.8"
   ]
  },
  {
   "cell_type": "code",
   "execution_count": 9,
   "id": "62a2136e",
   "metadata": {},
   "outputs": [
    {
     "name": "stderr",
     "output_type": "stream",
     "text": [
      "/home/sheepb/code/jupyter_dir/jupyter_env/lib/python3.8/site-packages/pyspark/sql/context.py:125: FutureWarning: Deprecated in 3.0.0. Use SparkSession.builder.getOrCreate() instead.\n",
      "  warnings.warn(\n",
      "                                                                                \r"
     ]
    },
    {
     "name": "stdout",
     "output_type": "stream",
     "text": [
      "+-----+----+\n",
      "|items|freq|\n",
      "+-----+----+\n",
      "+-----+----+\n",
      "\n",
      "+----------+----------+----------+----+-------+\n",
      "|antecedent|consequent|confidence|lift|support|\n",
      "+----------+----------+----------+----+-------+\n",
      "+----------+----------+----------+----+-------+\n",
      "\n"
     ]
    },
    {
     "name": "stderr",
     "output_type": "stream",
     "text": [
      "\r",
      "[Stage 47:>                                                         (0 + 4) / 4]\r",
      "\r",
      "[Stage 47:==============>                                           (1 + 3) / 4]\r"
     ]
    },
    {
     "name": "stdout",
     "output_type": "stream",
     "text": [
      "+----+--------------------+----------+\n",
      "|  id|            products|prediction|\n",
      "+----+--------------------+----------+\n",
      "|   1|[Bulgarian Yogurt...|        []|\n",
      "| 218|[Natural Artisan ...|        []|\n",
      "| 473|[Organic Whole Mi...|        []|\n",
      "| 631|[Organic Strawber...|        []|\n",
      "| 762|[Organic Strawber...|        []|\n",
      "| 774|[Ice Cream Variet...|        []|\n",
      "| 844|[Green Beans, Org...|        []|\n",
      "| 988|[Natural Vanilla ...|        []|\n",
      "|1077|[Bag of Organic B...|        []|\n",
      "|1139|[Banana, Organic ...|        []|\n",
      "|1143|[Natural Premium ...|        []|\n",
      "|1145|[Banana, Original...|        []|\n",
      "|1280|[Lactose Free Hal...|        []|\n",
      "|1342|[Bag of Organic B...|        []|\n",
      "|1350|[Ground Cinnamon,...|        []|\n",
      "|1468|[Banana, Organic ...|        []|\n",
      "|1591|[Cracked Wheat, O...|        []|\n",
      "|1682|[Bathroom Tissue,...|        []|\n",
      "|1721|[Organic Reduced ...|        []|\n",
      "|1890|[Vanilla Almond B...|        []|\n",
      "+----+--------------------+----------+\n",
      "only showing top 20 rows\n",
      "\n"
     ]
    },
    {
     "name": "stderr",
     "output_type": "stream",
     "text": [
      "\r",
      "                                                                                \r"
     ]
    }
   ],
   "source": [
    "from pyspark.ml.fpm import FPGrowth\n",
    "\n",
    "fpGrowth = FPGrowth(itemsCol=\"products\", minSupport=0.8, minConfidence=0.8)\n",
    "model = fpGrowth.fit(df)\n",
    "# Display frequent itemsets.\n",
    "model.freqItemsets.show()\n",
    "\n",
    "# Display generated association rules.\n",
    "model.associationRules.show()\n",
    "\n",
    "# transform examines the input items against all the association rules and summarize the\n",
    "# consequents as prediction\n",
    "model.transform(df).show()"
   ]
  },
  {
   "cell_type": "markdown",
   "id": "8a213be3",
   "metadata": {},
   "source": [
    "- Thử với các giá trị min_support, min_confidence nhỏ hơn"
   ]
  },
  {
   "cell_type": "code",
   "execution_count": 10,
   "id": "36e8fabe",
   "metadata": {},
   "outputs": [
    {
     "name": "stdout",
     "output_type": "stream",
     "text": [
      "------------- support=0.6, confidence=0.6--------------\n"
     ]
    },
    {
     "name": "stderr",
     "output_type": "stream",
     "text": [
      "                                                                                \r"
     ]
    },
    {
     "name": "stdout",
     "output_type": "stream",
     "text": [
      "+-----+----+\n",
      "|items|freq|\n",
      "+-----+----+\n",
      "+-----+----+\n",
      "\n",
      "+----------+----------+----------+----+-------+\n",
      "|antecedent|consequent|confidence|lift|support|\n",
      "+----------+----------+----------+----+-------+\n",
      "+----------+----------+----------+----+-------+\n",
      "\n"
     ]
    },
    {
     "name": "stderr",
     "output_type": "stream",
     "text": [
      "                                                                                \r"
     ]
    },
    {
     "name": "stdout",
     "output_type": "stream",
     "text": [
      "+----+--------------------+----------+\n",
      "|  id|            products|prediction|\n",
      "+----+--------------------+----------+\n",
      "|   1|[Bulgarian Yogurt...|        []|\n",
      "| 218|[Natural Artisan ...|        []|\n",
      "| 473|[Organic Whole Mi...|        []|\n",
      "| 631|[Organic Strawber...|        []|\n",
      "| 762|[Organic Strawber...|        []|\n",
      "| 774|[Ice Cream Variet...|        []|\n",
      "| 844|[Green Beans, Org...|        []|\n",
      "| 988|[Natural Vanilla ...|        []|\n",
      "|1077|[Bag of Organic B...|        []|\n",
      "|1139|[Banana, Organic ...|        []|\n",
      "|1143|[Natural Premium ...|        []|\n",
      "|1145|[Banana, Original...|        []|\n",
      "|1280|[Lactose Free Hal...|        []|\n",
      "|1342|[Bag of Organic B...|        []|\n",
      "|1350|[Ground Cinnamon,...|        []|\n",
      "|1468|[Banana, Organic ...|        []|\n",
      "|1591|[Cracked Wheat, O...|        []|\n",
      "|1682|[Bathroom Tissue,...|        []|\n",
      "|1721|[Organic Reduced ...|        []|\n",
      "|1890|[Vanilla Almond B...|        []|\n",
      "+----+--------------------+----------+\n",
      "only showing top 20 rows\n",
      "\n",
      "------------- support=0.6, confidence=0.4--------------\n"
     ]
    },
    {
     "name": "stderr",
     "output_type": "stream",
     "text": [
      "                                                                                \r"
     ]
    },
    {
     "name": "stdout",
     "output_type": "stream",
     "text": [
      "+-----+----+\n",
      "|items|freq|\n",
      "+-----+----+\n",
      "+-----+----+\n",
      "\n",
      "+----------+----------+----------+----+-------+\n",
      "|antecedent|consequent|confidence|lift|support|\n",
      "+----------+----------+----------+----+-------+\n",
      "+----------+----------+----------+----+-------+\n",
      "\n"
     ]
    },
    {
     "name": "stderr",
     "output_type": "stream",
     "text": [
      "                                                                                \r"
     ]
    },
    {
     "name": "stdout",
     "output_type": "stream",
     "text": [
      "+----+--------------------+----------+\n",
      "|  id|            products|prediction|\n",
      "+----+--------------------+----------+\n",
      "|   1|[Bulgarian Yogurt...|        []|\n",
      "| 218|[Natural Artisan ...|        []|\n",
      "| 473|[Organic Whole Mi...|        []|\n",
      "| 631|[Organic Strawber...|        []|\n",
      "| 762|[Organic Strawber...|        []|\n",
      "| 774|[Ice Cream Variet...|        []|\n",
      "| 844|[Green Beans, Org...|        []|\n",
      "| 988|[Natural Vanilla ...|        []|\n",
      "|1077|[Bag of Organic B...|        []|\n",
      "|1139|[Banana, Organic ...|        []|\n",
      "|1143|[Natural Premium ...|        []|\n",
      "|1145|[Banana, Original...|        []|\n",
      "|1280|[Lactose Free Hal...|        []|\n",
      "|1342|[Bag of Organic B...|        []|\n",
      "|1350|[Ground Cinnamon,...|        []|\n",
      "|1468|[Banana, Organic ...|        []|\n",
      "|1591|[Cracked Wheat, O...|        []|\n",
      "|1682|[Bathroom Tissue,...|        []|\n",
      "|1721|[Organic Reduced ...|        []|\n",
      "|1890|[Vanilla Almond B...|        []|\n",
      "+----+--------------------+----------+\n",
      "only showing top 20 rows\n",
      "\n",
      "------------- support=0.3, confidence=0.5--------------\n"
     ]
    },
    {
     "name": "stderr",
     "output_type": "stream",
     "text": [
      "                                                                                \r"
     ]
    },
    {
     "name": "stdout",
     "output_type": "stream",
     "text": [
      "+-----+----+\n",
      "|items|freq|\n",
      "+-----+----+\n",
      "+-----+----+\n",
      "\n",
      "+----------+----------+----------+----+-------+\n",
      "|antecedent|consequent|confidence|lift|support|\n",
      "+----------+----------+----------+----+-------+\n",
      "+----------+----------+----------+----+-------+\n",
      "\n"
     ]
    },
    {
     "name": "stderr",
     "output_type": "stream",
     "text": [
      "                                                                                \r"
     ]
    },
    {
     "name": "stdout",
     "output_type": "stream",
     "text": [
      "+----+--------------------+----------+\n",
      "|  id|            products|prediction|\n",
      "+----+--------------------+----------+\n",
      "|   1|[Bulgarian Yogurt...|        []|\n",
      "| 218|[Natural Artisan ...|        []|\n",
      "| 473|[Organic Whole Mi...|        []|\n",
      "| 631|[Organic Strawber...|        []|\n",
      "| 762|[Organic Strawber...|        []|\n",
      "| 774|[Ice Cream Variet...|        []|\n",
      "| 844|[Green Beans, Org...|        []|\n",
      "| 988|[Natural Vanilla ...|        []|\n",
      "|1077|[Bag of Organic B...|        []|\n",
      "|1139|[Banana, Organic ...|        []|\n",
      "|1143|[Natural Premium ...|        []|\n",
      "|1145|[Banana, Original...|        []|\n",
      "|1280|[Lactose Free Hal...|        []|\n",
      "|1342|[Bag of Organic B...|        []|\n",
      "|1350|[Ground Cinnamon,...|        []|\n",
      "|1468|[Banana, Organic ...|        []|\n",
      "|1591|[Cracked Wheat, O...|        []|\n",
      "|1682|[Bathroom Tissue,...|        []|\n",
      "|1721|[Organic Reduced ...|        []|\n",
      "|1890|[Vanilla Almond B...|        []|\n",
      "+----+--------------------+----------+\n",
      "only showing top 20 rows\n",
      "\n",
      "------------- support=0.4, confidence=0.1--------------\n"
     ]
    },
    {
     "name": "stderr",
     "output_type": "stream",
     "text": [
      "                                                                                \r"
     ]
    },
    {
     "name": "stdout",
     "output_type": "stream",
     "text": [
      "+-----+----+\n",
      "|items|freq|\n",
      "+-----+----+\n",
      "+-----+----+\n",
      "\n",
      "+----------+----------+----------+----+-------+\n",
      "|antecedent|consequent|confidence|lift|support|\n",
      "+----------+----------+----------+----+-------+\n",
      "+----------+----------+----------+----+-------+\n",
      "\n"
     ]
    },
    {
     "name": "stderr",
     "output_type": "stream",
     "text": [
      "                                                                                \r"
     ]
    },
    {
     "name": "stdout",
     "output_type": "stream",
     "text": [
      "+----+--------------------+----------+\n",
      "|  id|            products|prediction|\n",
      "+----+--------------------+----------+\n",
      "|   1|[Bulgarian Yogurt...|        []|\n",
      "| 218|[Natural Artisan ...|        []|\n",
      "| 473|[Organic Whole Mi...|        []|\n",
      "| 631|[Organic Strawber...|        []|\n",
      "| 762|[Organic Strawber...|        []|\n",
      "| 774|[Ice Cream Variet...|        []|\n",
      "| 844|[Green Beans, Org...|        []|\n",
      "| 988|[Natural Vanilla ...|        []|\n",
      "|1077|[Bag of Organic B...|        []|\n",
      "|1139|[Banana, Organic ...|        []|\n",
      "|1143|[Natural Premium ...|        []|\n",
      "|1145|[Banana, Original...|        []|\n",
      "|1280|[Lactose Free Hal...|        []|\n",
      "|1342|[Bag of Organic B...|        []|\n",
      "|1350|[Ground Cinnamon,...|        []|\n",
      "|1468|[Banana, Organic ...|        []|\n",
      "|1591|[Cracked Wheat, O...|        []|\n",
      "|1682|[Bathroom Tissue,...|        []|\n",
      "|1721|[Organic Reduced ...|        []|\n",
      "|1890|[Vanilla Almond B...|        []|\n",
      "+----+--------------------+----------+\n",
      "only showing top 20 rows\n",
      "\n",
      "------------- support=0.1, confidence=0.1--------------\n"
     ]
    },
    {
     "name": "stderr",
     "output_type": "stream",
     "text": [
      "                                                                                \r"
     ]
    },
    {
     "name": "stdout",
     "output_type": "stream",
     "text": [
      "+--------------------+-----+\n",
      "|               items| freq|\n",
      "+--------------------+-----+\n",
      "|            [Banana]|18726|\n",
      "|[Bag of Organic B...|15480|\n",
      "+--------------------+-----+\n",
      "\n",
      "+----------+----------+----------+----+-------+\n",
      "|antecedent|consequent|confidence|lift|support|\n",
      "+----------+----------+----------+----+-------+\n",
      "+----------+----------+----------+----+-------+\n",
      "\n"
     ]
    },
    {
     "name": "stderr",
     "output_type": "stream",
     "text": [
      "                                                                                \r"
     ]
    },
    {
     "name": "stdout",
     "output_type": "stream",
     "text": [
      "+----+--------------------+----------+\n",
      "|  id|            products|prediction|\n",
      "+----+--------------------+----------+\n",
      "|   1|[Bulgarian Yogurt...|        []|\n",
      "| 218|[Natural Artisan ...|        []|\n",
      "| 473|[Organic Whole Mi...|        []|\n",
      "| 631|[Organic Strawber...|        []|\n",
      "| 762|[Organic Strawber...|        []|\n",
      "| 774|[Ice Cream Variet...|        []|\n",
      "| 844|[Green Beans, Org...|        []|\n",
      "| 988|[Natural Vanilla ...|        []|\n",
      "|1077|[Bag of Organic B...|        []|\n",
      "|1139|[Banana, Organic ...|        []|\n",
      "|1143|[Natural Premium ...|        []|\n",
      "|1145|[Banana, Original...|        []|\n",
      "|1280|[Lactose Free Hal...|        []|\n",
      "|1342|[Bag of Organic B...|        []|\n",
      "|1350|[Ground Cinnamon,...|        []|\n",
      "|1468|[Banana, Organic ...|        []|\n",
      "|1591|[Cracked Wheat, O...|        []|\n",
      "|1682|[Bathroom Tissue,...|        []|\n",
      "|1721|[Organic Reduced ...|        []|\n",
      "|1890|[Vanilla Almond B...|        []|\n",
      "+----+--------------------+----------+\n",
      "only showing top 20 rows\n",
      "\n",
      "------------- support=0.01, confidence=0.01--------------\n"
     ]
    },
    {
     "name": "stderr",
     "output_type": "stream",
     "text": [
      "                                                                                \r"
     ]
    },
    {
     "name": "stdout",
     "output_type": "stream",
     "text": [
      "+--------------------+----+\n",
      "|               items|freq|\n",
      "+--------------------+----+\n",
      "|      [Green Onions]|1445|\n",
      "|  [Jalapeno Peppers]|1899|\n",
      "|[Organic Large Ex...|2891|\n",
      "|             [Limes]|6033|\n",
      "|[Limes, Large Lemon]|1595|\n",
      "|     [Limes, Banana]|1331|\n",
      "|[Organic Peeled W...|2460|\n",
      "|      [Hass Avocado]|1633|\n",
      "|      [Spring Water]|2225|\n",
      "|     [Yellow Onions]|3762|\n",
      "|[Organic Baby Bro...|1351|\n",
      "|[Lime Sparkling W...|1966|\n",
      "|[Organic Garnet S...|2568|\n",
      "|       [Large Lemon]|8135|\n",
      "|[Large Lemon, Ban...|2158|\n",
      "|[Organic Lacinato...|1761|\n",
      "|[Seedless Red Gra...|4059|\n",
      "| [Pure Irish Butter]|1476|\n",
      "|[100% Whole Wheat...|2298|\n",
      "|[Small Hass Avocado]|3103|\n",
      "+--------------------+----+\n",
      "only showing top 20 rows\n",
      "\n"
     ]
    },
    {
     "name": "stderr",
     "output_type": "stream",
     "text": [
      "                                                                                \r"
     ]
    },
    {
     "name": "stdout",
     "output_type": "stream",
     "text": [
      "+--------------------+--------------------+-------------------+------------------+--------------------+\n",
      "|          antecedent|          consequent|         confidence|              lift|             support|\n",
      "+--------------------+--------------------+-------------------+------------------+--------------------+\n",
      "|       [Large Lemon]|             [Limes]|0.19606637984019668| 4.264159395400691|0.012156178310939037|\n",
      "|       [Large Lemon]|            [Banana]|0.26527350952673634|1.8587136554252668|0.016447042504706234|\n",
      "|       [Large Lemon]|   [Organic Avocado]|0.16582667486170866| 2.936692155747055|0.010281306922543422|\n",
      "|[Organic Strawber...|[Organic Raspberr...|0.15329539195887645|3.6267102566772844|0.012727785441547455|\n",
      "|[Organic Strawber...|[Bag of Organic B...|0.28217367358178813|2.3917135359814496|0.023428270926537053|\n",
      "|[Organic Strawber...|            [Banana]|0.19955939049017807|1.3982691480735754|0.016568985359236028|\n",
      "|[Organic Strawber...|[Organic Hass Avo...| 0.1412704240866532|2.5416085388709284| 0.01172937832008475|\n",
      "|[Organic Strawber...|[Organic Baby Spi...|0.15044978887460989|2.0176171656223105|0.012491521160895976|\n",
      "|   [Organic Avocado]|       [Large Lemon]|0.18207585369145635| 2.936692155747055|0.010281306922543422|\n",
      "|   [Organic Avocado]|[Organic Baby Spi...|0.18922931569712512|2.5376726577375397|0.010685242628173372|\n",
      "|   [Organic Avocado]|            [Banana]| 0.2990956944256985|2.0956983322600378|0.016889085352376744|\n",
      "|[Organic Raspberr...|[Organic Strawber...| 0.3011179228272629|3.6267102566772844|0.012727785441547455|\n",
      "|[Organic Raspberr...|[Bag of Organic B...|0.32095203750450774| 2.720400251222801|0.013566142566439803|\n",
      "|             [Limes]|       [Large Lemon]|  0.264379247472236|  4.26415939540069|0.012156178310939037|\n",
      "|             [Limes]|            [Banana]|0.22061992375269351| 1.545835713749181|0.010144121211197402|\n",
      "|            [Banana]|             [Limes]| 0.0710776460536153|1.5458357137491812|0.010144121211197402|\n",
      "|            [Banana]|       [Large Lemon]|0.11524084161059489|1.8587136554252666|0.016447042504706234|\n",
      "|            [Banana]|   [Organic Avocado]|0.11833813948520773| 2.095698332260038|0.016889085352376744|\n",
      "|            [Banana]|[Organic Strawber...|0.11609526861048809|1.3982691480735754|0.016568985359236028|\n",
      "|            [Banana]|      [Strawberries]|0.10402648723699669| 2.101818811807684| 0.01484654253900266|\n",
      "+--------------------+--------------------+-------------------+------------------+--------------------+\n",
      "only showing top 20 rows\n",
      "\n"
     ]
    },
    {
     "name": "stderr",
     "output_type": "stream",
     "text": [
      "\r",
      "[Stage 248:>                                                        (0 + 4) / 4]\r",
      "\r",
      "[Stage 248:==============>                                          (1 + 3) / 4]\r"
     ]
    },
    {
     "name": "stdout",
     "output_type": "stream",
     "text": [
      "+----+--------------------+--------------------+\n",
      "|  id|            products|          prediction|\n",
      "+----+--------------------+--------------------+\n",
      "|   1|[Bulgarian Yogurt...|[Organic Raspberr...|\n",
      "| 218|[Natural Artisan ...|                  []|\n",
      "| 473|[Organic Whole Mi...|[Limes, Large Lem...|\n",
      "| 631|[Organic Strawber...|[Organic Raspberr...|\n",
      "| 762|[Organic Strawber...|[Organic Raspberr...|\n",
      "| 774|[Ice Cream Variet...|                  []|\n",
      "| 844|[Green Beans, Org...|                  []|\n",
      "| 988|[Natural Vanilla ...|                  []|\n",
      "|1077|[Bag of Organic B...|[Organic Raspberr...|\n",
      "|1139|[Banana, Organic ...|[Organic Raspberr...|\n",
      "|1143|[Natural Premium ...|[Limes, Banana, O...|\n",
      "|1145|[Banana, Original...|[Limes, Large Lem...|\n",
      "|1280|[Lactose Free Hal...|                  []|\n",
      "|1342|[Bag of Organic B...|[Organic Raspberr...|\n",
      "|1350|[Ground Cinnamon,...|                  []|\n",
      "|1468|[Banana, Organic ...|[Limes, Large Lem...|\n",
      "|1591|[Cracked Wheat, O...|[Limes, Large Lem...|\n",
      "|1682|[Bathroom Tissue,...|                  []|\n",
      "|1721|[Organic Reduced ...|                  []|\n",
      "|1890|[Vanilla Almond B...|[Limes, Banana, O...|\n",
      "+----+--------------------+--------------------+\n",
      "only showing top 20 rows\n",
      "\n"
     ]
    },
    {
     "name": "stderr",
     "output_type": "stream",
     "text": [
      "\r",
      "[Stage 248:==========================================>              (3 + 1) / 4]\r",
      "\r",
      "                                                                                \r"
     ]
    }
   ],
   "source": [
    "test_parameter = [(0.6, 0.6), (0.6, 0.4), (0.3, 0.5), (0.4, 0.1), (0.1, 0.1), (0.01, 0.01)]\n",
    "for min_support, min_confidence in test_parameter:\n",
    "    print(f\"------------- support={min_support}, confidence={min_confidence}--------------\")\n",
    "    fpGrowth = FPGrowth(itemsCol=\"products\", minSupport=min_support, minConfidence=min_confidence)\n",
    "    model = fpGrowth.fit(df)\n",
    "    # Display frequent itemsets.\n",
    "    model.freqItemsets.show()\n",
    "    \n",
    "    # Display generated association rules.\n",
    "    model.associationRules.show()\n",
    "    \n",
    "    # transform examines the input items against all the association rules and summarize the\n",
    "    # consequents as prediction\n",
    "    model.transform(df).show()"
   ]
  },
  {
   "cell_type": "markdown",
   "id": "55d054ad",
   "metadata": {},
   "source": [
    "- Kết qủa không như mong đợi, không tìm thấy tập phổ biến mặc dù min_support và min_confidence vô cùng thấp (0.1, 0.1)\n",
    "- Thử với min_support=0.01 và min_confidence=0.01 thì ta tìm được các tập phổ biến"
   ]
  },
  {
   "cell_type": "markdown",
   "id": "ca459e5c",
   "metadata": {},
   "source": [
    "- Thử so sánh số lượng giá trị distinct của product name giữa origin và trường hợp không phân việt hoa thường"
   ]
  },
  {
   "cell_type": "code",
   "execution_count": 15,
   "id": "b87ef674",
   "metadata": {},
   "outputs": [
    {
     "data": {
      "text/plain": [
       "49688"
      ]
     },
     "execution_count": 15,
     "metadata": {},
     "output_type": "execute_result"
    }
   ],
   "source": [
    "product_csv.select('product_name').distinct().count()"
   ]
  },
  {
   "cell_type": "code",
   "execution_count": 16,
   "id": "3ebb03e6",
   "metadata": {},
   "outputs": [
    {
     "data": {
      "text/plain": [
       "49588"
      ]
     },
     "execution_count": 16,
     "metadata": {},
     "output_type": "execute_result"
    }
   ],
   "source": [
    "product_csv.select(F.lower(product_csv.product_name)).distinct().count()"
   ]
  },
  {
   "cell_type": "markdown",
   "id": "d65e26f7",
   "metadata": {},
   "source": [
    "Có sự chênh lệch ở đây"
   ]
  },
  {
   "cell_type": "code",
   "execution_count": 17,
   "id": "da150afa",
   "metadata": {},
   "outputs": [
    {
     "name": "stdout",
     "output_type": "stream",
     "text": [
      "+----------+--------------------+--------+-------------+\n",
      "|product_id|        product_name|aisle_id|department_id|\n",
      "+----------+--------------------+--------+-------------+\n",
      "|         1|chocolate sandwic...|      61|           19|\n",
      "|         2|    all-seasons salt|     104|           13|\n",
      "|         3|robust golden uns...|      94|            7|\n",
      "|         4|smart ones classi...|      38|            1|\n",
      "|         5|green chile anyti...|       5|           13|\n",
      "|         6|        dry nose oil|      11|           11|\n",
      "|         7|pure coconut wate...|      98|            7|\n",
      "|         8|cut russet potato...|     116|            1|\n",
      "|         9|light strawberry ...|     120|           16|\n",
      "|        10|sparkling orange ...|     115|            7|\n",
      "|        11|   peach mango juice|      31|            7|\n",
      "|        12|chocolate fudge l...|     119|            1|\n",
      "|        13|   saline nasal mist|      11|           11|\n",
      "|        14|fresh scent dishw...|      74|           17|\n",
      "|        15|overnight diapers...|      56|           18|\n",
      "|        16|mint chocolate fl...|     103|           19|\n",
      "|        17|   rendered duck fat|      35|           12|\n",
      "|        18|pizza for one sup...|      79|            1|\n",
      "|        19|gluten free quino...|      63|            9|\n",
      "|        20|pomegranate cranb...|      98|            7|\n",
      "+----------+--------------------+--------+-------------+\n",
      "only showing top 20 rows\n",
      "\n"
     ]
    }
   ],
   "source": [
    "product_csv = product_csv.withColumn('product_name', F.lower(product_csv.product_name))\n",
    "product_csv.show()"
   ]
  },
  {
   "cell_type": "code",
   "execution_count": 21,
   "id": "6dea3ca1",
   "metadata": {},
   "outputs": [
    {
     "name": "stderr",
     "output_type": "stream",
     "text": [
      "[Stage 296:==============>                                          (1 + 3) / 4]\r"
     ]
    },
    {
     "name": "stdout",
     "output_type": "stream",
     "text": [
      "+--------+-------------------------+\n",
      "|order_id|collect_set(product_name)|\n",
      "+--------+-------------------------+\n",
      "|       1|     [organic 4% milk ...|\n",
      "|     218|     [natural artisan ...|\n",
      "|     473|     [spinaci e ricott...|\n",
      "|     631|     [organic red radi...|\n",
      "|     762|     [celery hearts, o...|\n",
      "|     774|     [nacho cheese sau...|\n",
      "|     844|     [baby spinach, or...|\n",
      "|     988|     [whipped light cr...|\n",
      "|    1077|     [celery sticks, o...|\n",
      "|    1139|     [flaky biscuits, ...|\n",
      "|    1143|     [large lemon, org...|\n",
      "|    1145|     [harvest best in ...|\n",
      "|    1280|     [vanilla soy milk...|\n",
      "|    1342|     [seedless cucumbe...|\n",
      "|    1350|     [plus lotion faci...|\n",
      "|    1468|     [organic red radi...|\n",
      "|    1591|     [honey graham sna...|\n",
      "|    1682|     [organic yellow o...|\n",
      "|    1721|     [organic thompson...|\n",
      "|    1890|     [michigan organic...|\n",
      "+--------+-------------------------+\n",
      "only showing top 20 rows\n",
      "\n"
     ]
    },
    {
     "name": "stderr",
     "output_type": "stream",
     "text": [
      "\r",
      "[Stage 296:==========================================>              (3 + 1) / 4]\r",
      "\r",
      "                                                                                \r"
     ]
    }
   ],
   "source": [
    "merge_df =  order_csv.join(product_csv, \n",
    "                             order_csv.product_id == product_csv.product_id)\\\n",
    "                        .groupby('order_id')\\\n",
    "                        .agg(F.collect_set('product_name'))\n",
    "merge_df.show()"
   ]
  },
  {
   "cell_type": "code",
   "execution_count": 24,
   "id": "91a64c49",
   "metadata": {},
   "outputs": [
    {
     "name": "stderr",
     "output_type": "stream",
     "text": [
      "\r",
      "[Stage 304:>                                                        (0 + 4) / 4]\r",
      "\r",
      "[Stage 304:==============>                                          (1 + 3) / 4]\r"
     ]
    },
    {
     "name": "stdout",
     "output_type": "stream",
     "text": [
      "+----+--------------------+\n",
      "|  id|            products|\n",
      "+----+--------------------+\n",
      "|   1|[organic 4% milk ...|\n",
      "| 218|[natural artisan ...|\n",
      "| 473|[spinaci e ricott...|\n",
      "| 631|[organic red radi...|\n",
      "| 762|[celery hearts, o...|\n",
      "| 774|[nacho cheese sau...|\n",
      "| 844|[baby spinach, or...|\n",
      "| 988|[whipped light cr...|\n",
      "|1077|[celery sticks, o...|\n",
      "|1139|[flaky biscuits, ...|\n",
      "|1143|[large lemon, org...|\n",
      "|1145|[harvest best in ...|\n",
      "|1280|[vanilla soy milk...|\n",
      "|1342|[seedless cucumbe...|\n",
      "|1350|[plus lotion faci...|\n",
      "|1468|[organic red radi...|\n",
      "|1591|[honey graham sna...|\n",
      "|1682|[organic yellow o...|\n",
      "|1721|[organic thompson...|\n",
      "|1890|[michigan organic...|\n",
      "+----+--------------------+\n",
      "only showing top 20 rows\n",
      "\n"
     ]
    },
    {
     "name": "stderr",
     "output_type": "stream",
     "text": [
      "\r",
      "[Stage 304:============================>                            (2 + 2) / 4]\r",
      "\r",
      "                                                                                \r"
     ]
    }
   ],
   "source": [
    "new_df = merge_df.withColumnRenamed(\"order_id\", \"id\")\\\n",
    "       .withColumnRenamed(\"collect_set(product_name)\", \"products\")\n",
    "new_df.show()"
   ]
  },
  {
   "cell_type": "code",
   "execution_count": 26,
   "id": "a15391b5",
   "metadata": {},
   "outputs": [
    {
     "name": "stdout",
     "output_type": "stream",
     "text": [
      "------------- support=0.1, confidence=0.1--------------\n"
     ]
    },
    {
     "name": "stderr",
     "output_type": "stream",
     "text": [
      "                                                                                \r"
     ]
    },
    {
     "name": "stdout",
     "output_type": "stream",
     "text": [
      "+--------------------+-----+\n",
      "|               items| freq|\n",
      "+--------------------+-----+\n",
      "|            [banana]|18726|\n",
      "|[bag of organic b...|15480|\n",
      "+--------------------+-----+\n",
      "\n",
      "+----------+----------+----------+----+-------+\n",
      "|antecedent|consequent|confidence|lift|support|\n",
      "+----------+----------+----------+----+-------+\n",
      "+----------+----------+----------+----+-------+\n",
      "\n"
     ]
    },
    {
     "name": "stderr",
     "output_type": "stream",
     "text": [
      "                                                                                \r"
     ]
    },
    {
     "name": "stdout",
     "output_type": "stream",
     "text": [
      "+----+--------------------+----------+\n",
      "|  id|            products|prediction|\n",
      "+----+--------------------+----------+\n",
      "|   1|[organic 4% milk ...|        []|\n",
      "| 218|[natural artisan ...|        []|\n",
      "| 473|[spinaci e ricott...|        []|\n",
      "| 631|[organic red radi...|        []|\n",
      "| 762|[celery hearts, o...|        []|\n",
      "| 774|[nacho cheese sau...|        []|\n",
      "| 844|[baby spinach, or...|        []|\n",
      "| 988|[whipped light cr...|        []|\n",
      "|1077|[celery sticks, o...|        []|\n",
      "|1139|[flaky biscuits, ...|        []|\n",
      "|1143|[large lemon, org...|        []|\n",
      "|1145|[harvest best in ...|        []|\n",
      "|1280|[vanilla soy milk...|        []|\n",
      "|1342|[seedless cucumbe...|        []|\n",
      "|1350|[plus lotion faci...|        []|\n",
      "|1468|[organic red radi...|        []|\n",
      "|1591|[honey graham sna...|        []|\n",
      "|1682|[organic yellow o...|        []|\n",
      "|1721|[organic thompson...|        []|\n",
      "|1890|[michigan organic...|        []|\n",
      "+----+--------------------+----------+\n",
      "only showing top 20 rows\n",
      "\n",
      "------------- support=0.05, confidence=0.05--------------\n"
     ]
    },
    {
     "name": "stderr",
     "output_type": "stream",
     "text": [
      "                                                                                \r"
     ]
    },
    {
     "name": "stdout",
     "output_type": "stream",
     "text": [
      "+--------------------+-----+\n",
      "|               items| freq|\n",
      "+--------------------+-----+\n",
      "|       [large lemon]| 8135|\n",
      "|            [banana]|18726|\n",
      "|   [organic avocado]| 7409|\n",
      "|[bag of organic b...|15480|\n",
      "|[organic strawber...|10894|\n",
      "|[organic hass avo...| 7293|\n",
      "|[organic baby spi...| 9784|\n",
      "+--------------------+-----+\n",
      "\n",
      "+----------+----------+----------+----+-------+\n",
      "|antecedent|consequent|confidence|lift|support|\n",
      "+----------+----------+----------+----+-------+\n",
      "+----------+----------+----------+----+-------+\n",
      "\n"
     ]
    },
    {
     "name": "stderr",
     "output_type": "stream",
     "text": [
      "                                                                                \r"
     ]
    },
    {
     "name": "stdout",
     "output_type": "stream",
     "text": [
      "+----+--------------------+----------+\n",
      "|  id|            products|prediction|\n",
      "+----+--------------------+----------+\n",
      "|   1|[organic 4% milk ...|        []|\n",
      "| 218|[natural artisan ...|        []|\n",
      "| 473|[spinaci e ricott...|        []|\n",
      "| 631|[organic red radi...|        []|\n",
      "| 762|[celery hearts, o...|        []|\n",
      "| 774|[nacho cheese sau...|        []|\n",
      "| 844|[baby spinach, or...|        []|\n",
      "| 988|[whipped light cr...|        []|\n",
      "|1077|[celery sticks, o...|        []|\n",
      "|1139|[flaky biscuits, ...|        []|\n",
      "|1143|[large lemon, org...|        []|\n",
      "|1145|[harvest best in ...|        []|\n",
      "|1280|[vanilla soy milk...|        []|\n",
      "|1342|[seedless cucumbe...|        []|\n",
      "|1350|[plus lotion faci...|        []|\n",
      "|1468|[organic red radi...|        []|\n",
      "|1591|[honey graham sna...|        []|\n",
      "|1682|[organic yellow o...|        []|\n",
      "|1721|[organic thompson...|        []|\n",
      "|1890|[michigan organic...|        []|\n",
      "+----+--------------------+----------+\n",
      "only showing top 20 rows\n",
      "\n",
      "------------- support=0.01, confidence=0.01--------------\n"
     ]
    },
    {
     "name": "stderr",
     "output_type": "stream",
     "text": [
      "                                                                                \r"
     ]
    },
    {
     "name": "stdout",
     "output_type": "stream",
     "text": [
      "+--------------------+----+\n",
      "|               items|freq|\n",
      "+--------------------+----+\n",
      "|      [green onions]|1445|\n",
      "|  [jalapeno peppers]|1899|\n",
      "|[organic large ex...|2891|\n",
      "|             [limes]|6033|\n",
      "|[limes, large lemon]|1595|\n",
      "|     [limes, banana]|1331|\n",
      "|[organic peeled w...|2460|\n",
      "|      [hass avocado]|1633|\n",
      "|      [spring water]|2225|\n",
      "|     [yellow onions]|3762|\n",
      "|[organic baby bro...|1351|\n",
      "|[lime sparkling w...|1966|\n",
      "|[organic garnet s...|2568|\n",
      "|       [large lemon]|8135|\n",
      "|[large lemon, ban...|2158|\n",
      "|[organic lacinato...|1761|\n",
      "|[seedless red gra...|4059|\n",
      "| [pure irish butter]|1476|\n",
      "|[100% whole wheat...|2298|\n",
      "|[small hass avocado]|3103|\n",
      "+--------------------+----+\n",
      "only showing top 20 rows\n",
      "\n"
     ]
    },
    {
     "name": "stderr",
     "output_type": "stream",
     "text": [
      "                                                                                \r"
     ]
    },
    {
     "name": "stdout",
     "output_type": "stream",
     "text": [
      "+--------------------+--------------------+-------------------+------------------+--------------------+\n",
      "|          antecedent|          consequent|         confidence|              lift|             support|\n",
      "+--------------------+--------------------+-------------------+------------------+--------------------+\n",
      "|      [strawberries]|            [banana]|0.29996920234062213| 2.101818811807684| 0.01484654253900266|\n",
      "|            [banana]|             [limes]| 0.0710776460536153|1.5458357137491812|0.010144121211197402|\n",
      "|            [banana]|       [large lemon]|0.11524084161059489|1.8587136554252666|0.016447042504706234|\n",
      "|            [banana]|   [organic avocado]|0.11833813948520773| 2.095698332260038|0.016889085352376744|\n",
      "|            [banana]|[organic strawber...|0.11609526861048809|1.3982691480735754|0.016568985359236028|\n",
      "|            [banana]|      [strawberries]|0.10402648723699669| 2.101818811807684| 0.01484654253900266|\n",
      "|            [banana]|[organic baby spi...|0.10680337498664957|1.4322939522305094|0.015242856816224497|\n",
      "|             [limes]|       [large lemon]|  0.264379247472236|  4.26415939540069|0.012156178310939037|\n",
      "|             [limes]|            [banana]|0.22061992375269351| 1.545835713749181|0.010144121211197402|\n",
      "|[organic baby spi...|   [organic avocado]|0.14329517579721995|  2.53767265773754|0.010685242628173372|\n",
      "|[organic baby spi...|[organic strawber...|0.16751839738348323|2.0176171656223105|0.012491521160895976|\n",
      "|[organic baby spi...|[bag of organic b...| 0.2285363859362224| 1.937082084128282|0.017041513920538987|\n",
      "|[organic baby spi...|            [banana]| 0.2044153720359771|1.4322939522305091|0.015242856816224497|\n",
      "|   [organic avocado]|       [large lemon]|0.18207585369145635| 2.936692155747055|0.010281306922543422|\n",
      "|   [organic avocado]|[organic baby spi...|0.18922931569712512|2.5376726577375397|0.010685242628173372|\n",
      "|   [organic avocado]|            [banana]| 0.2990956944256985|2.0956983322600378|0.016889085352376744|\n",
      "|[organic hass avo...|[organic strawber...|0.21102426984779926| 2.541608538870928| 0.01172937832008475|\n",
      "|[organic hass avo...|[bag of organic b...|0.33182503770739064|2.8125601661853374|0.018443856747631642|\n",
      "|       [large lemon]|             [limes]|0.19606637984019668| 4.264159395400691|0.012156178310939037|\n",
      "|       [large lemon]|            [banana]|0.26527350952673634|1.8587136554252668|0.016447042504706234|\n",
      "+--------------------+--------------------+-------------------+------------------+--------------------+\n",
      "only showing top 20 rows\n",
      "\n"
     ]
    },
    {
     "name": "stderr",
     "output_type": "stream",
     "text": [
      "[Stage 470:==============>                                          (1 + 3) / 4]\r"
     ]
    },
    {
     "name": "stdout",
     "output_type": "stream",
     "text": [
      "+----+--------------------+--------------------+\n",
      "|  id|            products|          prediction|\n",
      "+----+--------------------+--------------------+\n",
      "|   1|[organic 4% milk ...|[organic strawber...|\n",
      "| 218|[natural artisan ...|                  []|\n",
      "| 473|[spinaci e ricott...|[limes, large lem...|\n",
      "| 631|[organic red radi...|[organic raspberr...|\n",
      "| 762|[celery hearts, o...|[organic raspberr...|\n",
      "| 774|[nacho cheese sau...|                  []|\n",
      "| 844|[baby spinach, or...|                  []|\n",
      "| 988|[whipped light cr...|                  []|\n",
      "|1077|[celery sticks, o...|[organic raspberr...|\n",
      "|1139|[flaky biscuits, ...|[limes, large lem...|\n",
      "|1143|[large lemon, org...|[organic strawber...|\n",
      "|1145|[harvest best in ...|[limes, large lem...|\n",
      "|1280|[vanilla soy milk...|                  []|\n",
      "|1342|[seedless cucumbe...|[organic raspberr...|\n",
      "|1350|[plus lotion faci...|                  []|\n",
      "|1468|[organic red radi...|[limes, large lem...|\n",
      "|1591|[honey graham sna...|[limes, large lem...|\n",
      "|1682|[organic yellow o...|                  []|\n",
      "|1721|[organic thompson...|                  []|\n",
      "|1890|[michigan organic...|[limes, banana, o...|\n",
      "+----+--------------------+--------------------+\n",
      "only showing top 20 rows\n",
      "\n"
     ]
    },
    {
     "name": "stderr",
     "output_type": "stream",
     "text": [
      "\r",
      "                                                                                \r"
     ]
    }
   ],
   "source": [
    "test_parameter = [(0.1, 0.1), (0.05, 0.05), (0.01, 0.01)]\n",
    "for min_support, min_confidence in test_parameter:\n",
    "    print(f\"------------- support={min_support}, confidence={min_confidence}--------------\")\n",
    "    fpGrowth = FPGrowth(itemsCol=\"products\", minSupport=min_support, minConfidence=min_confidence)\n",
    "    model = fpGrowth.fit(new_df)\n",
    "    # Display frequent itemsets.\n",
    "    model.freqItemsets.show()\n",
    "    \n",
    "    # Display generated association rules.\n",
    "    model.associationRules.show()\n",
    "    \n",
    "    # transform examines the input items against all the association rules and summarize the\n",
    "    # consequents as prediction\n",
    "    model.transform(new_df).show()"
   ]
  },
  {
   "cell_type": "code",
   "execution_count": null,
   "id": "73cf3799",
   "metadata": {},
   "outputs": [],
   "source": []
  }
 ],
 "metadata": {
  "kernelspec": {
   "display_name": "Python 3 (ipykernel)",
   "language": "python",
   "name": "python3"
  },
  "language_info": {
   "codemirror_mode": {
    "name": "ipython",
    "version": 3
   },
   "file_extension": ".py",
   "mimetype": "text/x-python",
   "name": "python",
   "nbconvert_exporter": "python",
   "pygments_lexer": "ipython3",
   "version": "3.8.10"
  }
 },
 "nbformat": 4,
 "nbformat_minor": 5
}
