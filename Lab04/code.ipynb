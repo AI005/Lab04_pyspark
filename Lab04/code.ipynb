{
 "cells": [
  {
   "cell_type": "markdown",
   "id": "d0387da3-3609-4e6a-a2b0-60b5513478d8",
   "metadata": {},
   "source": [
    "# 1. Khai thác mẫu phổ biến và luật kết hợp"
   ]
  },
  {
   "cell_type": "code",
   "execution_count": 2,
   "id": "8b1198ab-94a9-433d-b612-24e88e9fd9bc",
   "metadata": {},
   "outputs": [],
   "source": [
    "from pyspark.sql import SparkSession\n",
    "from pyspark.sql import functions as F"
   ]
  },
  {
   "cell_type": "code",
   "execution_count": 3,
   "id": "44c7fe52-0ddb-4780-8825-62d028a47f09",
   "metadata": {},
   "outputs": [
    {
     "name": "stderr",
     "output_type": "stream",
     "text": [
      "22/01/21 15:24:05 WARN Utils: Your hostname, sheepb-HP-Pavilion-Notebook resolves to a loopback address: 127.0.1.1; using 192.168.1.9 instead (on interface wlo1)\n",
      "22/01/21 15:24:05 WARN Utils: Set SPARK_LOCAL_IP if you need to bind to another address\n",
      "WARNING: An illegal reflective access operation has occurred\n",
      "WARNING: Illegal reflective access by org.apache.spark.unsafe.Platform (file:/home/sheepb/code/jupyter_dir/jupyter_env/lib/python3.8/site-packages/pyspark/jars/spark-unsafe_2.12-3.2.0.jar) to constructor java.nio.DirectByteBuffer(long,int)\n",
      "WARNING: Please consider reporting this to the maintainers of org.apache.spark.unsafe.Platform\n",
      "WARNING: Use --illegal-access=warn to enable warnings of further illegal reflective access operations\n",
      "WARNING: All illegal access operations will be denied in a future release\n",
      "Using Spark's default log4j profile: org/apache/spark/log4j-defaults.properties\n",
      "Setting default log level to \"WARN\".\n",
      "To adjust logging level use sc.setLogLevel(newLevel). For SparkR, use setLogLevel(newLevel).\n",
      "22/01/21 15:24:16 WARN NativeCodeLoader: Unable to load native-hadoop library for your platform... using builtin-java classes where applicable\n"
     ]
    }
   ],
   "source": [
    "spark = SparkSession.builder.appName('lab04').getOrCreate()"
   ]
  },
  {
   "cell_type": "markdown",
   "id": "d9ba8056-2a6a-448f-9305-c2c6d15c8814",
   "metadata": {},
   "source": [
    "## a. Đọc và xử lí dữ liệu"
   ]
  },
  {
   "cell_type": "code",
   "execution_count": 4,
   "id": "5acc980a-4efa-46cd-a020-ada6f94965b3",
   "metadata": {},
   "outputs": [
    {
     "name": "stderr",
     "output_type": "stream",
     "text": [
      "                                                                                \r"
     ]
    }
   ],
   "source": [
    "data_path = './Lab04-Data/'\n",
    "order_csv = spark.read.csv(data_path + 'orders.csv', inferSchema=True, header=True, sep=',')\n",
    "product_csv = spark.read.csv(data_path + 'products.csv', inferSchema=True, header=True, sep=',')"
   ]
  },
  {
   "cell_type": "code",
   "execution_count": 5,
   "id": "84acea4c-4a02-49cf-80fa-83097d9658e9",
   "metadata": {},
   "outputs": [
    {
     "name": "stdout",
     "output_type": "stream",
     "text": [
      "+--------+----------+-----------------+---------+\n",
      "|order_id|product_id|add_to_cart_order|reordered|\n",
      "+--------+----------+-----------------+---------+\n",
      "|       1|     49302|                1|        1|\n",
      "|       1|     11109|                2|        1|\n",
      "|       1|     10246|                3|        0|\n",
      "|       1|     49683|                4|        0|\n",
      "|       1|     43633|                5|        1|\n",
      "|       1|     13176|                6|        0|\n",
      "|       1|     47209|                7|        0|\n",
      "|       1|     22035|                8|        1|\n",
      "|      36|     39612|                1|        0|\n",
      "|      36|     19660|                2|        1|\n",
      "|      36|     49235|                3|        0|\n",
      "|      36|     43086|                4|        1|\n",
      "|      36|     46620|                5|        1|\n",
      "|      36|     34497|                6|        1|\n",
      "|      36|     48679|                7|        1|\n",
      "|      36|     46979|                8|        1|\n",
      "|      38|     11913|                1|        0|\n",
      "|      38|     18159|                2|        0|\n",
      "|      38|      4461|                3|        0|\n",
      "|      38|     21616|                4|        1|\n",
      "+--------+----------+-----------------+---------+\n",
      "only showing top 20 rows\n",
      "\n"
     ]
    }
   ],
   "source": [
    "order_csv.show()"
   ]
  },
  {
   "cell_type": "code",
   "execution_count": 6,
   "id": "ebdfdd00-9fc0-40ec-98c8-a11fbe007bf4",
   "metadata": {},
   "outputs": [
    {
     "name": "stdout",
     "output_type": "stream",
     "text": [
      "+----------+--------------------+--------+-------------+\n",
      "|product_id|        product_name|aisle_id|department_id|\n",
      "+----------+--------------------+--------+-------------+\n",
      "|         1|Chocolate Sandwic...|      61|           19|\n",
      "|         2|    All-Seasons Salt|     104|           13|\n",
      "|         3|Robust Golden Uns...|      94|            7|\n",
      "|         4|Smart Ones Classi...|      38|            1|\n",
      "|         5|Green Chile Anyti...|       5|           13|\n",
      "|         6|        Dry Nose Oil|      11|           11|\n",
      "|         7|Pure Coconut Wate...|      98|            7|\n",
      "|         8|Cut Russet Potato...|     116|            1|\n",
      "|         9|Light Strawberry ...|     120|           16|\n",
      "|        10|Sparkling Orange ...|     115|            7|\n",
      "|        11|   Peach Mango Juice|      31|            7|\n",
      "|        12|Chocolate Fudge L...|     119|            1|\n",
      "|        13|   Saline Nasal Mist|      11|           11|\n",
      "|        14|Fresh Scent Dishw...|      74|           17|\n",
      "|        15|Overnight Diapers...|      56|           18|\n",
      "|        16|Mint Chocolate Fl...|     103|           19|\n",
      "|        17|   Rendered Duck Fat|      35|           12|\n",
      "|        18|Pizza for One Sup...|      79|            1|\n",
      "|        19|Gluten Free Quino...|      63|            9|\n",
      "|        20|Pomegranate Cranb...|      98|            7|\n",
      "+----------+--------------------+--------+-------------+\n",
      "only showing top 20 rows\n",
      "\n"
     ]
    }
   ],
   "source": [
    "product_csv.show()"
   ]
  },
  {
   "cell_type": "code",
   "execution_count": 7,
   "id": "30793cf2-8832-4fcd-b3cf-517f0d0f4ec2",
   "metadata": {},
   "outputs": [
    {
     "name": "stderr",
     "output_type": "stream",
     "text": [
      "[Stage 7:============================================>              (3 + 1) / 4]\r"
     ]
    },
    {
     "name": "stdout",
     "output_type": "stream",
     "text": [
      "+--------+--------------------------+\n",
      "|order_id|collect_list(product_name)|\n",
      "+--------+--------------------------+\n",
      "|       1|      [Bulgarian Yogurt...|\n",
      "|     218|      [Natural Artisan ...|\n",
      "|     473|      [Organic Whole Mi...|\n",
      "|     631|      [Organic Strawber...|\n",
      "|     762|      [Organic Strawber...|\n",
      "|     774|      [Ice Cream Variet...|\n",
      "|     844|      [Green Beans, Org...|\n",
      "|     988|      [Natural Vanilla ...|\n",
      "|    1077|      [Bag of Organic B...|\n",
      "|    1139|      [Banana, Organic ...|\n",
      "|    1143|      [Natural Premium ...|\n",
      "|    1145|      [Banana, Original...|\n",
      "|    1280|      [Lactose Free Hal...|\n",
      "|    1342|      [Bag of Organic B...|\n",
      "|    1350|      [Ground Cinnamon,...|\n",
      "|    1468|      [Banana, Organic ...|\n",
      "|    1591|      [Cracked Wheat, O...|\n",
      "|    1682|      [Bathroom Tissue,...|\n",
      "|    1721|      [Organic Reduced ...|\n",
      "|    1890|      [Vanilla Almond B...|\n",
      "+--------+--------------------------+\n",
      "only showing top 20 rows\n",
      "\n"
     ]
    },
    {
     "name": "stderr",
     "output_type": "stream",
     "text": [
      "\r",
      "                                                                                \r"
     ]
    }
   ],
   "source": [
    "merge_df =  order_csv.join(product_csv, \n",
    "                             order_csv.product_id == product_csv.product_id)\\\n",
    "                        .groupby('order_id')\\\n",
    "                        .agg(F.collect_list('product_name'))\n",
    "merge_df.show()"
   ]
  },
  {
   "cell_type": "code",
   "execution_count": 8,
   "id": "4e5f60e7-452d-494c-aa0d-957e383fc53b",
   "metadata": {},
   "outputs": [
    {
     "name": "stderr",
     "output_type": "stream",
     "text": [
      "[Stage 11:=============================>                            (2 + 2) / 4]\r"
     ]
    },
    {
     "name": "stdout",
     "output_type": "stream",
     "text": [
      "+----+--------------------+\n",
      "|  id|            products|\n",
      "+----+--------------------+\n",
      "|   1|[Bulgarian Yogurt...|\n",
      "| 218|[Natural Artisan ...|\n",
      "| 473|[Organic Whole Mi...|\n",
      "| 631|[Organic Strawber...|\n",
      "| 762|[Organic Strawber...|\n",
      "| 774|[Ice Cream Variet...|\n",
      "| 844|[Green Beans, Org...|\n",
      "| 988|[Natural Vanilla ...|\n",
      "|1077|[Bag of Organic B...|\n",
      "|1139|[Banana, Organic ...|\n",
      "|1143|[Natural Premium ...|\n",
      "|1145|[Banana, Original...|\n",
      "|1280|[Lactose Free Hal...|\n",
      "|1342|[Bag of Organic B...|\n",
      "|1350|[Ground Cinnamon,...|\n",
      "|1468|[Banana, Organic ...|\n",
      "|1591|[Cracked Wheat, O...|\n",
      "|1682|[Bathroom Tissue,...|\n",
      "|1721|[Organic Reduced ...|\n",
      "|1890|[Vanilla Almond B...|\n",
      "+----+--------------------+\n",
      "only showing top 20 rows\n",
      "\n"
     ]
    },
    {
     "name": "stderr",
     "output_type": "stream",
     "text": [
      "\r",
      "                                                                                \r"
     ]
    }
   ],
   "source": [
    "df = merge_df.withColumnRenamed(\"order_id\", \"id\")\\\n",
    "       .withColumnRenamed(\"collect_list(product_name)\", \"products\")\n",
    "df.show()"
   ]
  },
  {
   "cell_type": "markdown",
   "id": "e421ad74-f84e-43de-834c-5d39a1a44f88",
   "metadata": {},
   "source": [
    "## b. Khai thác tập phổ biến"
   ]
  },
  {
   "cell_type": "code",
   "execution_count": 9,
   "id": "df197627-b34b-4984-b8cf-91e320bc0e6b",
   "metadata": {},
   "outputs": [
    {
     "name": "stdout",
     "output_type": "stream",
     "text": [
      "root\n",
      " |-- id: integer (nullable = true)\n",
      " |-- products: array (nullable = false)\n",
      " |    |-- element: string (containsNull = false)\n",
      "\n"
     ]
    }
   ],
   "source": [
    "df.printSchema()"
   ]
  },
  {
   "cell_type": "code",
   "execution_count": 16,
   "id": "ab3ef15d",
   "metadata": {},
   "outputs": [
    {
     "name": "stderr",
     "output_type": "stream",
     "text": [
      "\r",
      "[Stage 23:>                                                         (0 + 4) / 4]\r"
     ]
    },
    {
     "name": "stdout",
     "output_type": "stream",
     "text": [
      "+--------------------+\n",
      "|            products|\n",
      "+--------------------+\n",
      "|[Bulgarian Yogurt...|\n",
      "+--------------------+\n",
      "only showing top 1 row\n",
      "\n"
     ]
    },
    {
     "name": "stderr",
     "output_type": "stream",
     "text": [
      "\r",
      "[Stage 23:==============>                                           (1 + 3) / 4]\r",
      "\r",
      "[Stage 23:=============================>                            (2 + 2) / 4]\r",
      "\r",
      "                                                                                \r"
     ]
    }
   ],
   "source": [
    "df.select('products').show(1)"
   ]
  },
  {
   "cell_type": "code",
   "execution_count": 20,
   "id": "b4fc3856",
   "metadata": {},
   "outputs": [
    {
     "name": "stdout",
     "output_type": "stream",
     "text": [
      "Collecting numpy\n",
      "  Using cached numpy-1.22.1-cp38-cp38-manylinux_2_17_x86_64.manylinux2014_x86_64.whl (16.8 MB)\n",
      "Installing collected packages: numpy\n",
      "Successfully installed numpy-1.22.1\n"
     ]
    }
   ],
   "source": [
    "!pip install numpy"
   ]
  },
  {
   "cell_type": "code",
   "execution_count": 22,
   "id": "9dbf6871-5ab8-4dc6-940c-d27e8c51b83b",
   "metadata": {},
   "outputs": [
    {
     "name": "stderr",
     "output_type": "stream",
     "text": [
      "                                                                                \r"
     ]
    },
    {
     "name": "stdout",
     "output_type": "stream",
     "text": [
      "+-----+----+\n",
      "|items|freq|\n",
      "+-----+----+\n",
      "+-----+----+\n",
      "\n",
      "+----------+----------+----------+----+-------+\n",
      "|antecedent|consequent|confidence|lift|support|\n",
      "+----------+----------+----------+----+-------+\n",
      "+----------+----------+----------+----+-------+\n",
      "\n"
     ]
    },
    {
     "name": "stderr",
     "output_type": "stream",
     "text": [
      "\r",
      "[Stage 93:>                                                         (0 + 4) / 4]\r",
      "\r",
      "[Stage 93:==============>                                           (1 + 3) / 4]\r"
     ]
    },
    {
     "name": "stdout",
     "output_type": "stream",
     "text": [
      "+----+--------------------+----------+\n",
      "|  id|            products|prediction|\n",
      "+----+--------------------+----------+\n",
      "|   1|[Bulgarian Yogurt...|        []|\n",
      "| 218|[Natural Artisan ...|        []|\n",
      "| 473|[Organic Whole Mi...|        []|\n",
      "| 631|[Organic Strawber...|        []|\n",
      "| 762|[Organic Strawber...|        []|\n",
      "| 774|[Ice Cream Variet...|        []|\n",
      "| 844|[Green Beans, Org...|        []|\n",
      "| 988|[Natural Vanilla ...|        []|\n",
      "|1077|[Bag of Organic B...|        []|\n",
      "|1139|[Banana, Organic ...|        []|\n",
      "|1143|[Natural Premium ...|        []|\n",
      "|1145|[Banana, Original...|        []|\n",
      "|1280|[Lactose Free Hal...|        []|\n",
      "|1342|[Bag of Organic B...|        []|\n",
      "|1350|[Ground Cinnamon,...|        []|\n",
      "|1468|[Banana, Organic ...|        []|\n",
      "|1591|[Cracked Wheat, O...|        []|\n",
      "|1682|[Bathroom Tissue,...|        []|\n",
      "|1721|[Organic Reduced ...|        []|\n",
      "|1890|[Vanilla Almond B...|        []|\n",
      "+----+--------------------+----------+\n",
      "only showing top 20 rows\n",
      "\n"
     ]
    },
    {
     "name": "stderr",
     "output_type": "stream",
     "text": [
      "\r",
      "                                                                                \r"
     ]
    }
   ],
   "source": [
    "from pyspark.ml.fpm import FPGrowth\n",
    "\n",
    "fpGrowth = FPGrowth(itemsCol=\"products\", minSupport=0.8, minConfidence=0.8)\n",
    "model = fpGrowth.fit(df)\n",
    "# Display frequent itemsets.\n",
    "model.freqItemsets.show()\n",
    "\n",
    "# Display generated association rules.\n",
    "model.associationRules.show()\n",
    "\n",
    "# transform examines the input items against all the association rules and summarize the\n",
    "# consequents as prediction\n",
    "model.transform(df).show()"
   ]
  },
  {
   "cell_type": "markdown",
   "id": "2b47abc9-eb50-42d7-869b-a8b7192f0b2d",
   "metadata": {},
   "source": [
    "# 2. Phân lớp"
   ]
  },
  {
   "cell_type": "code",
   "execution_count": 10,
   "id": "60e170d8-7691-4a35-a7bb-d27f6bfc4444",
   "metadata": {},
   "outputs": [],
   "source": [
    "from pyspark.ml import Pipeline\n",
    "from pyspark.ml.classification import DecisionTreeClassifier, RandomForestClassifier\n",
    "from pyspark.ml.feature import StringIndexer, VectorIndexer\n",
    "from pyspark.ml.evaluation import MulticlassClassificationEvaluator\n",
    "from pyspark.ml.feature import VectorAssembler"
   ]
  },
  {
   "cell_type": "code",
   "execution_count": 11,
   "id": "0ddc8bf5-a75a-411d-ba9b-1ce31ceb9a51",
   "metadata": {},
   "outputs": [
    {
     "name": "stdout",
     "output_type": "stream",
     "text": [
      "+-----+---------+-----------+---------+-------+----+---------------+------------+---------+----------+-----------+----------+------------------------+------------------------+----------------------+----------------------+---------+----------+-----------+---------+-----------------+----------+-------+\n",
      "|class|cap-shape|cap-surface|cap-color|bruises|odor|gill-attachment|gill-spacing|gill-size|gill-color|stalk-shape|stalk-root|stalk-surface-above-ring|stalk-surface-below-ring|stalk-color-above-ring|stalk-color-below-ring|veil-type|veil-color|ring-number|ring-type|spore-print-color|population|habitat|\n",
      "+-----+---------+-----------+---------+-------+----+---------------+------------+---------+----------+-----------+----------+------------------------+------------------------+----------------------+----------------------+---------+----------+-----------+---------+-----------------+----------+-------+\n",
      "|    p|        x|          s|        n|      t|   p|              f|           c|        n|         k|          e|         e|                       s|                       s|                     w|                     w|        p|         w|          o|        p|                k|         s|      u|\n",
      "|    e|        x|          s|        y|      t|   a|              f|           c|        b|         k|          e|         c|                       s|                       s|                     w|                     w|        p|         w|          o|        p|                n|         n|      g|\n",
      "|    e|        b|          s|        w|      t|   l|              f|           c|        b|         n|          e|         c|                       s|                       s|                     w|                     w|        p|         w|          o|        p|                n|         n|      m|\n",
      "|    p|        x|          y|        w|      t|   p|              f|           c|        n|         n|          e|         e|                       s|                       s|                     w|                     w|        p|         w|          o|        p|                k|         s|      u|\n",
      "|    e|        x|          s|        g|      f|   n|              f|           w|        b|         k|          t|         e|                       s|                       s|                     w|                     w|        p|         w|          o|        e|                n|         a|      g|\n",
      "|    e|        x|          y|        y|      t|   a|              f|           c|        b|         n|          e|         c|                       s|                       s|                     w|                     w|        p|         w|          o|        p|                k|         n|      g|\n",
      "|    e|        b|          s|        w|      t|   a|              f|           c|        b|         g|          e|         c|                       s|                       s|                     w|                     w|        p|         w|          o|        p|                k|         n|      m|\n",
      "|    e|        b|          y|        w|      t|   l|              f|           c|        b|         n|          e|         c|                       s|                       s|                     w|                     w|        p|         w|          o|        p|                n|         s|      m|\n",
      "|    p|        x|          y|        w|      t|   p|              f|           c|        n|         p|          e|         e|                       s|                       s|                     w|                     w|        p|         w|          o|        p|                k|         v|      g|\n",
      "|    e|        b|          s|        y|      t|   a|              f|           c|        b|         g|          e|         c|                       s|                       s|                     w|                     w|        p|         w|          o|        p|                k|         s|      m|\n",
      "|    e|        x|          y|        y|      t|   l|              f|           c|        b|         g|          e|         c|                       s|                       s|                     w|                     w|        p|         w|          o|        p|                n|         n|      g|\n",
      "|    e|        x|          y|        y|      t|   a|              f|           c|        b|         n|          e|         c|                       s|                       s|                     w|                     w|        p|         w|          o|        p|                k|         s|      m|\n",
      "|    e|        b|          s|        y|      t|   a|              f|           c|        b|         w|          e|         c|                       s|                       s|                     w|                     w|        p|         w|          o|        p|                n|         s|      g|\n",
      "|    p|        x|          y|        w|      t|   p|              f|           c|        n|         k|          e|         e|                       s|                       s|                     w|                     w|        p|         w|          o|        p|                n|         v|      u|\n",
      "|    e|        x|          f|        n|      f|   n|              f|           w|        b|         n|          t|         e|                       s|                       f|                     w|                     w|        p|         w|          o|        e|                k|         a|      g|\n",
      "|    e|        s|          f|        g|      f|   n|              f|           c|        n|         k|          e|         e|                       s|                       s|                     w|                     w|        p|         w|          o|        p|                n|         y|      u|\n",
      "|    e|        f|          f|        w|      f|   n|              f|           w|        b|         k|          t|         e|                       s|                       s|                     w|                     w|        p|         w|          o|        e|                n|         a|      g|\n",
      "|    p|        x|          s|        n|      t|   p|              f|           c|        n|         n|          e|         e|                       s|                       s|                     w|                     w|        p|         w|          o|        p|                k|         s|      g|\n",
      "|    p|        x|          y|        w|      t|   p|              f|           c|        n|         n|          e|         e|                       s|                       s|                     w|                     w|        p|         w|          o|        p|                n|         s|      u|\n",
      "|    p|        x|          s|        n|      t|   p|              f|           c|        n|         k|          e|         e|                       s|                       s|                     w|                     w|        p|         w|          o|        p|                n|         s|      u|\n",
      "+-----+---------+-----------+---------+-------+----+---------------+------------+---------+----------+-----------+----------+------------------------+------------------------+----------------------+----------------------+---------+----------+-----------+---------+-----------------+----------+-------+\n",
      "only showing top 20 rows\n",
      "\n"
     ]
    }
   ],
   "source": [
    "df = spark.read.csv(data_path + 'mushrooms.csv', inferSchema=True, header=True, sep=',')\n",
    "df.show()"
   ]
  },
  {
   "cell_type": "markdown",
   "id": "50e5d404-aeac-4b77-8ce3-a32893da8fb2",
   "metadata": {},
   "source": [
    "## a. Tiền xử lí dữ liệu"
   ]
  },
  {
   "cell_type": "code",
   "execution_count": 12,
   "id": "42af3891-56b4-48bc-888b-680e0393f1a2",
   "metadata": {},
   "outputs": [
    {
     "name": "stderr",
     "output_type": "stream",
     "text": [
      "22/01/18 00:23:05 WARN package: Truncated the string representation of a plan since it was too large. This behavior can be adjusted by setting 'spark.sql.debug.maxToStringFields'.\n"
     ]
    },
    {
     "name": "stdout",
     "output_type": "stream",
     "text": [
      "+--------------------+-----+------------+\n",
      "|            features|class|indexedLabel|\n",
      "+--------------------+-----+------------+\n",
      "|(22,[1,3,4,7,8,9,...|    p|         1.0|\n",
      "|(22,[1,2,3,4,8,9,...|    e|         0.0|\n",
      "|(22,[0,1,2,3,4,8,...|    e|         0.0|\n",
      "|(22,[2,3,4,7,8,9,...|    p|         1.0|\n",
      "|(22,[1,2,6,8,10,1...|    e|         0.0|\n",
      "|(22,[2,3,4,8,9,10...|    e|         0.0|\n",
      "|(22,[0,1,2,3,4,8,...|    e|         0.0|\n",
      "|(22,[0,2,3,4,8,9,...|    e|         0.0|\n",
      "|(22,[2,3,4,7,8,9,...|    p|         1.0|\n",
      "|(22,[0,1,2,3,4,8,...|    e|         0.0|\n",
      "|(22,[2,3,4,8,9,10...|    e|         0.0|\n",
      "|(22,[2,3,4,8,9,10...|    e|         0.0|\n",
      "|(22,[0,1,2,3,4,8,...|    e|         0.0|\n",
      "|(22,[2,3,4,7,8,9,...|    p|         1.0|\n",
      "|(22,[1,6,8,10,12,...|    e|         0.0|\n",
      "|(22,[0,1,2,7,8,9,...|    e|         0.0|\n",
      "|(22,[0,1,2,6,8,10...|    e|         0.0|\n",
      "|(22,[1,3,4,7,8,9,...|    p|         1.0|\n",
      "|(22,[2,3,4,7,8,9,...|    p|         1.0|\n",
      "|(22,[1,3,4,7,8,9,...|    p|         1.0|\n",
      "+--------------------+-----+------------+\n",
      "only showing top 20 rows\n",
      "\n"
     ]
    }
   ],
   "source": [
    "features_col = df.columns\n",
    "label_col = 'class'\n",
    "features_col.remove(label_col)\n",
    "featuresIndexer = [StringIndexer(inputCol=column, outputCol=column+\"Indexer\").fit(df) \n",
    "                       for column in features_col]\n",
    "    \n",
    "for featureIndexer in featuresIndexer:\n",
    "    df = featureIndexer.transform(df)\n",
    "        \n",
    "features_col = [feature_col + \"Indexer\" for feature_col in features_col]\n",
    "vec_assembler = VectorAssembler(inputCols = features_col , outputCol = \"features\")\n",
    "features_df = vec_assembler.transform(df).select('features', label_col)\n",
    "\n",
    "# featureIndexer = VectorIndexer(inputCol=\"features\", outputCol=\"indexedFeatures\").fit(features_df)\n",
    "labelIndexer = StringIndexer(inputCol=label_col, outputCol=\"indexedLabel\").fit(features_df)\n",
    "# features_df = featureIndexer.transform(features_df)\n",
    "features_df = labelIndexer.transform(features_df)\n",
    "    \n",
    "features_df.show()"
   ]
  },
  {
   "cell_type": "code",
   "execution_count": 13,
   "id": "078ca2a3-9d62-4d29-9a33-e47ca6d94928",
   "metadata": {},
   "outputs": [],
   "source": [
    "# Chia tập dữ liệu ra thành train, test theo tỉ lệ 80:20\n",
    "train, test = features_df.randomSplit([0.8, 0.2])"
   ]
  },
  {
   "cell_type": "markdown",
   "id": "927e08fe-1a61-46e8-85eb-b526361bb6ce",
   "metadata": {},
   "source": [
    "## b. Mô hình decision Tree"
   ]
  },
  {
   "cell_type": "code",
   "execution_count": 14,
   "id": "d93b3738-9072-49f0-af1f-55f8bb841b56",
   "metadata": {},
   "outputs": [
    {
     "name": "stderr",
     "output_type": "stream",
     "text": [
      "                                                                                \r"
     ]
    }
   ],
   "source": [
    "decision_tree = DecisionTreeClassifier(labelCol='indexedLabel', featuresCol='features', maxDepth=20, maxBins=32)\n",
    "model_dct = decision_tree.fit(train)"
   ]
  },
  {
   "cell_type": "markdown",
   "id": "5a2d0f57-4887-4cfb-a50e-9e34423b977b",
   "metadata": {},
   "source": [
    "## c. Mô hình random forest"
   ]
  },
  {
   "cell_type": "code",
   "execution_count": 15,
   "id": "ffbddadb-fc63-4bd0-93fa-bf554c42e787",
   "metadata": {},
   "outputs": [],
   "source": [
    "rdf_cls = RandomForestClassifier(labelCol='indexedLabel', featuresCol='features', maxDepth=20, numTrees=10)\n",
    "model_rdf = rdf_cls.fit(train)"
   ]
  },
  {
   "cell_type": "markdown",
   "id": "09fee2a7-d959-467e-9f34-d939c9c77195",
   "metadata": {},
   "source": [
    "## d. Đánh giá 2 mô hình trên tập kiểm thử"
   ]
  },
  {
   "cell_type": "code",
   "execution_count": 16,
   "id": "e0d1edcf-da0b-4232-9c52-a7f765b9baa5",
   "metadata": {},
   "outputs": [
    {
     "name": "stdout",
     "output_type": "stream",
     "text": [
      "Accuracy on test\n",
      "- accuracy of decisionTree: 1.0\n",
      "- accuracy of RandomForest: 1.0\n"
     ]
    }
   ],
   "source": [
    "test_pred_ds = model_dct.transform(test)\n",
    "test_pred_rdf = model_rdf.transform(test)\n",
    "# accuracy\n",
    "evaluator = MulticlassClassificationEvaluator(\n",
    "    labelCol=\"indexedLabel\", \n",
    "    predictionCol=\"prediction\", \n",
    "    metricName=\"accuracy\")\n",
    "\n",
    "accuracy_ds = evaluator.evaluate(test_pred_ds)\n",
    "accuracy_rdf = evaluator.evaluate(test_pred_rdf)\n",
    "\n",
    "print(\"Accuracy on test\")\n",
    "print(f\"- accuracy of decisionTree: {accuracy_ds}\")\n",
    "print(f\"- accuracy of RandomForest: {accuracy_rdf}\") "
   ]
  },
  {
   "cell_type": "markdown",
   "id": "6bca82c6-603d-4b32-ac84-304d572e0273",
   "metadata": {},
   "source": [
    "## e. Sử dụng Pipeline để thiết lập các bước trên thành một bước duy nhất"
   ]
  },
  {
   "cell_type": "code",
   "execution_count": 17,
   "id": "a9fcf66d-c021-4c49-82fa-88a3cba82691",
   "metadata": {},
   "outputs": [],
   "source": [
    "from pyspark.ml import Pipeline\n",
    "from pyspark.ml.tuning import ParamGridBuilder\n",
    "from pyspark.ml.tuning import TrainValidationSplit"
   ]
  },
  {
   "cell_type": "code",
   "execution_count": 30,
   "id": "92783151-c83a-435d-8188-7ddcc101c165",
   "metadata": {},
   "outputs": [
    {
     "data": {
      "text/plain": [
       "1.0"
      ]
     },
     "execution_count": 30,
     "metadata": {},
     "output_type": "execute_result"
    }
   ],
   "source": [
    "df = spark.read.csv(data_path + 'mushrooms.csv', inferSchema=True, header=True, sep=',')\n",
    "\n",
    "# processing\n",
    "features_col = df.columns\n",
    "features_col.remove(label_col)\n",
    "featuresIndexer = [StringIndexer(inputCol=column, outputCol=column+\"Indexer\").fit(df) \n",
    "                       for column in features_col]\n",
    "    \n",
    "for featureIndexer in featuresIndexer:\n",
    "    df = featureIndexer.transform(df)\n",
    "        \n",
    "features_col = [feature_col + \"Indexer\" for feature_col in features_col]\n",
    "vec_assembler = VectorAssembler(inputCols = features_col , outputCol = \"features\")\n",
    "features_df = vec_assembler.transform(df).select('features', label_col)\n",
    "    \n",
    "\n",
    "    \n",
    "train_df, test_df = features_df.randomSplit([0.8, 0.2])\n",
    "\n",
    "labelIndexer = StringIndexer(inputCol=label_col, outputCol=\"indexedLabel\").fit(features_df)\n",
    "\n",
    "decision_tree = DecisionTreeClassifier(labelCol='indexedLabel', featuresCol='features', maxDepth=20, maxBins=32)\n",
    "\n",
    "pipeline_dct = Pipeline(stages=[labelIndexer, decision_tree])\n",
    "\n",
    "params_dct = ParamGridBuilder().addGrid(decision_tree.maxDepth, [5, 10, 20])\\\n",
    "                            .addGrid(decision_tree.maxBins, [ 15, 32])\\\n",
    "                            .build()\n",
    "\n",
    "evaluator = MulticlassClassificationEvaluator(\n",
    "    labelCol=\"indexedLabel\", \n",
    "    predictionCol=\"prediction\", \n",
    "    metricName=\"accuracy\")\n",
    "\n",
    "tvs_dct = TrainValidationSplit().setTrainRatio(0.8)\\\n",
    "                            .setEstimatorParamMaps(params_dct)\\\n",
    "                            .setEstimator(pipeline_dct)\\\n",
    "                            .setEvaluator(evaluator)\n",
    "\n",
    "tvsFitted = tvs_dct.fit(train_df)\n",
    "evaluator.evaluate(tvsFitted.transform(test_df))"
   ]
  },
  {
   "cell_type": "code",
   "execution_count": 32,
   "id": "6bb5f82e-1428-43e6-9844-471018e47537",
   "metadata": {},
   "outputs": [
    {
     "data": {
      "text/plain": [
       "0.9975713418336369"
      ]
     },
     "execution_count": 32,
     "metadata": {},
     "output_type": "execute_result"
    }
   ],
   "source": [
    "rdf_cls = RandomForestClassifier(labelCol='indexedLabel', featuresCol='features', maxDepth=20, numTrees=10)\n",
    "\n",
    "pipeline_rdf = Pipeline(stages=[labelIndexer, rdf_cls])\n",
    "\n",
    "params_rdf = ParamGridBuilder().addGrid(rdf_cls.maxDepth, [5, 10, 20])\\\n",
    "                            .addGrid(rdf_cls.numTrees, [ 5, 10, 15])\\\n",
    "                            .build()\n",
    "\n",
    "tvs_dct = TrainValidationSplit().setTrainRatio(0.8)\\\n",
    "                            .setEstimatorParamMaps(params_rdf)\\\n",
    "                            .setEstimator(pipeline_rdf)\\\n",
    "                            .setEvaluator(evaluator)\n",
    "\n",
    "tvsFitted = tvs_dct.fit(train_df)\n",
    "evaluator.evaluate(tvsFitted.transform(test_df))"
   ]
  },
  {
   "cell_type": "markdown",
   "id": "7ed6063e-c7a5-4649-a1a7-1c920328a715",
   "metadata": {},
   "source": [
    "# 3. GOM CỤM"
   ]
  },
  {
   "cell_type": "code",
   "execution_count": null,
   "id": "b35ba70d-4598-44a8-9336-8eac49963fdc",
   "metadata": {},
   "outputs": [],
   "source": []
  }
 ],
 "metadata": {
  "kernelspec": {
   "display_name": "Python 3 (ipykernel)",
   "language": "python",
   "name": "python3"
  },
  "language_info": {
   "codemirror_mode": {
    "name": "ipython",
    "version": 3
   },
   "file_extension": ".py",
   "mimetype": "text/x-python",
   "name": "python",
   "nbconvert_exporter": "python",
   "pygments_lexer": "ipython3",
   "version": "3.8.10"
  }
 },
 "nbformat": 4,
 "nbformat_minor": 5
}
